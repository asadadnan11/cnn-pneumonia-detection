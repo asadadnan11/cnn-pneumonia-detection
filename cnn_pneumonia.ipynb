{
 "cells": [
  {
   "cell_type": "code",
   "execution_count": 1,
   "metadata": {
    "cell_id": "1cc2015b62804537bc0f7ecdba10f8ed",
    "deepnote_cell_type": "code",
    "deepnote_to_be_reexecuted": false,
    "execution_millis": 6103,
    "execution_start": 1673120424163,
    "source_hash": "90ce38a6"
   },
   "outputs": [
    {
     "name": "stdout",
     "output_type": "stream",
     "text": [
      "Defaulting to user installation because normal site-packages is not writeable\n",
      "Requirement already satisfied: tensorflow in /usr/local/lib/python3.10/site-packages (2.13.1)\n",
      "Requirement already satisfied: absl-py>=1.0.0 in /usr/local/lib/python3.10/site-packages (from tensorflow) (1.4.0)\n",
      "Requirement already satisfied: astunparse>=1.6.0 in /usr/local/lib/python3.10/site-packages (from tensorflow) (1.6.3)\n",
      "Requirement already satisfied: flatbuffers>=23.1.21 in /usr/local/lib/python3.10/site-packages (from tensorflow) (23.5.26)\n",
      "Requirement already satisfied: gast<=0.4.0,>=0.2.1 in /usr/local/lib/python3.10/site-packages (from tensorflow) (0.4.0)\n",
      "Requirement already satisfied: google-pasta>=0.1.1 in /usr/local/lib/python3.10/site-packages (from tensorflow) (0.2.0)\n",
      "Requirement already satisfied: grpcio<2.0,>=1.24.3 in /usr/local/lib/python3.10/site-packages (from tensorflow) (1.56.2)\n",
      "Requirement already satisfied: h5py>=2.9.0 in /usr/local/lib/python3.10/site-packages (from tensorflow) (3.7.0)\n",
      "Requirement already satisfied: keras<2.14,>=2.13.1 in /usr/local/lib/python3.10/site-packages (from tensorflow) (2.13.1)\n",
      "Requirement already satisfied: libclang>=13.0.0 in /usr/local/lib/python3.10/site-packages (from tensorflow) (14.0.1)\n",
      "Requirement already satisfied: numpy<=1.24.3,>=1.22 in /usr/local/lib/python3.10/site-packages (from tensorflow) (1.23.5)\n",
      "Requirement already satisfied: opt-einsum>=2.3.2 in /usr/local/lib/python3.10/site-packages (from tensorflow) (3.3.0)\n",
      "Requirement already satisfied: packaging in /usr/local/lib/python3.10/site-packages (from tensorflow) (22.0)\n",
      "Requirement already satisfied: protobuf!=4.21.0,!=4.21.1,!=4.21.2,!=4.21.3,!=4.21.4,!=4.21.5,<5.0.0dev,>=3.20.3 in /usr/local/lib/python3.10/site-packages (from tensorflow) (3.20.3)\n",
      "Requirement already satisfied: setuptools in /usr/local/lib/python3.10/site-packages (from tensorflow) (58.1.0)\n",
      "Requirement already satisfied: six>=1.12.0 in /usr/local/lib/python3.10/site-packages (from tensorflow) (1.16.0)\n",
      "Requirement already satisfied: tensorboard<2.14,>=2.13 in /usr/local/lib/python3.10/site-packages (from tensorflow) (2.13.0)\n",
      "Requirement already satisfied: tensorflow-estimator<2.14,>=2.13.0 in /usr/local/lib/python3.10/site-packages (from tensorflow) (2.13.0)\n",
      "Requirement already satisfied: termcolor>=1.1.0 in /usr/local/lib/python3.10/site-packages (from tensorflow) (1.1.0)\n",
      "Requirement already satisfied: typing-extensions<4.6.0,>=3.6.6 in /usr/local/lib/python3.10/site-packages (from tensorflow) (4.5.0)\n",
      "Requirement already satisfied: wrapt>=1.11.0 in /usr/local/lib/python3.10/site-packages (from tensorflow) (1.14.1)\n",
      "Requirement already satisfied: tensorflow-io-gcs-filesystem>=0.23.1 in /usr/local/lib/python3.10/site-packages (from tensorflow) (0.26.0)\n",
      "Requirement already satisfied: wheel<1.0,>=0.23.0 in /usr/local/lib/python3.10/site-packages (from astunparse>=1.6.0->tensorflow) (0.37.1)\n",
      "Requirement already satisfied: google-auth<3,>=1.6.3 in /usr/local/lib/python3.10/site-packages (from tensorboard<2.14,>=2.13->tensorflow) (2.16.2)\n",
      "Requirement already satisfied: google-auth-oauthlib<1.1,>=0.5 in /usr/local/lib/python3.10/site-packages (from tensorboard<2.14,>=2.13->tensorflow) (1.0.0)\n",
      "Requirement already satisfied: markdown>=2.6.8 in /usr/local/lib/python3.10/site-packages (from tensorboard<2.14,>=2.13->tensorflow) (3.3.7)\n",
      "Requirement already satisfied: requests<3,>=2.21.0 in /usr/local/lib/python3.10/site-packages (from tensorboard<2.14,>=2.13->tensorflow) (2.28.1)\n",
      "Requirement already satisfied: tensorboard-data-server<0.8.0,>=0.7.0 in /usr/local/lib/python3.10/site-packages (from tensorboard<2.14,>=2.13->tensorflow) (0.7.1)\n",
      "Requirement already satisfied: werkzeug>=1.0.1 in /usr/local/lib/python3.10/site-packages (from tensorboard<2.14,>=2.13->tensorflow) (2.1.2)\n",
      "Requirement already satisfied: cachetools<6.0,>=2.0.0 in /usr/local/lib/python3.10/site-packages (from google-auth<3,>=1.6.3->tensorboard<2.14,>=2.13->tensorflow) (5.3.1)\n",
      "Requirement already satisfied: pyasn1-modules>=0.2.1 in /usr/local/lib/python3.10/site-packages (from google-auth<3,>=1.6.3->tensorboard<2.14,>=2.13->tensorflow) (0.2.8)\n",
      "Requirement already satisfied: rsa<5,>=3.1.4 in /usr/local/lib/python3.10/site-packages (from google-auth<3,>=1.6.3->tensorboard<2.14,>=2.13->tensorflow) (4.8)\n",
      "Requirement already satisfied: requests-oauthlib>=0.7.0 in /usr/local/lib/python3.10/site-packages (from google-auth-oauthlib<1.1,>=0.5->tensorboard<2.14,>=2.13->tensorflow) (1.3.1)\n",
      "Requirement already satisfied: charset-normalizer<3,>=2 in /usr/local/lib/python3.10/site-packages (from requests<3,>=2.21.0->tensorboard<2.14,>=2.13->tensorflow) (2.1.0)\n",
      "Requirement already satisfied: idna<4,>=2.5 in /usr/local/lib/python3.10/site-packages (from requests<3,>=2.21.0->tensorboard<2.14,>=2.13->tensorflow) (3.3)\n",
      "Requirement already satisfied: urllib3<1.27,>=1.21.1 in /usr/local/lib/python3.10/site-packages (from requests<3,>=2.21.0->tensorboard<2.14,>=2.13->tensorflow) (1.26.9)\n",
      "Requirement already satisfied: certifi>=2017.4.17 in /usr/local/lib/python3.10/site-packages (from requests<3,>=2.21.0->tensorboard<2.14,>=2.13->tensorflow) (2022.6.15)\n",
      "Requirement already satisfied: pyasn1<0.5.0,>=0.4.6 in /usr/local/lib/python3.10/site-packages (from pyasn1-modules>=0.2.1->google-auth<3,>=1.6.3->tensorboard<2.14,>=2.13->tensorflow) (0.4.8)\n",
      "Requirement already satisfied: oauthlib>=3.0.0 in /usr/local/lib/python3.10/site-packages (from requests-oauthlib>=0.7.0->google-auth-oauthlib<1.1,>=0.5->tensorboard<2.14,>=2.13->tensorflow) (3.2.0)\n"
     ]
    },
    {
     "name": "stderr",
     "output_type": "stream",
     "text": [
      "2025-02-27 04:22:52.289580: I tensorflow/core/util/port.cc:110] oneDNN custom operations are on. You may see slightly different numerical results due to floating-point round-off errors from different computation orders. To turn them off, set the environment variable `TF_ENABLE_ONEDNN_OPTS=0`.\n",
      "2025-02-27 04:22:52.821859: I tensorflow/core/platform/cpu_feature_guard.cc:182] This TensorFlow binary is optimized to use available CPU instructions in performance-critical operations.\n",
      "To enable the following instructions: AVX2 AVX512F AVX512_VNNI FMA, in other operations, rebuild TensorFlow with the appropriate compiler flags.\n",
      "WARNING:root:Limited tf.compat.v2.summary API due to missing TensorBoard installation.\n",
      "WARNING:root:Limited tf.compat.v2.summary API due to missing TensorBoard installation.\n",
      "WARNING:root:Limited tf.compat.v2.summary API due to missing TensorBoard installation.\n",
      "WARNING:root:Limited tf.summary API due to missing TensorBoard installation.\n",
      "2025-02-27 04:22:54.885580: E tensorflow/compiler/xla/stream_executor/cuda/cuda_driver.cc:268] failed call to cuInit: CUDA_ERROR_NO_DEVICE: no CUDA-capable device is detected\n",
      "WARNING:root:Limited tf.compat.v2.summary API due to missing TensorBoard installation.\n",
      "WARNING:root:Limited tf.compat.v2.summary API due to missing TensorBoard installation.\n",
      "WARNING:root:Limited tf.compat.v2.summary API due to missing TensorBoard installation.\n"
     ]
    },
    {
     "name": "stdout",
     "output_type": "stream",
     "text": [
      "VOC-NOTICE: GPU memory for this assignment is capped at 1024MiB\n",
      "VOC-NOTICE: GPU memory for this assignment is capped at 1024MiB\n",
      "The keras version is 2.13.1.\n"
     ]
    }
   ],
   "source": [
    "#import os\n",
    "#os.system (\"pip install keras==2.4.3\")\n",
    "\n",
    "!pip install tensorflow\n",
    "\n",
    "import keras\n",
    "print('The keras version is {}.'.format(keras.__version__))"
   ]
  },
  {
   "cell_type": "code",
   "execution_count": 2,
   "metadata": {
    "cell_id": "20fb5644d3ee4eac89a688d1f88a4db6",
    "deepnote_cell_type": "code",
    "deepnote_to_be_reexecuted": false,
    "execution_millis": 630,
    "execution_start": 1673120430269,
    "source_hash": "4437f931"
   },
   "outputs": [
    {
     "name": "stderr",
     "output_type": "stream",
     "text": [
      "/tmp/ipykernel_4301/3485464767.py:8: MatplotlibDeprecationWarning: The seaborn styles shipped by Matplotlib are deprecated since 3.6, as they no longer correspond to the styles shipped by seaborn. However, they will remain available as 'seaborn-v0_8-<style>'. Alternatively, directly use the seaborn API instead.\n",
      "  plt.style.use('seaborn-paper')\n"
     ]
    },
    {
     "data": {
      "text/html": [
       "<style>.container { width:90% !important; }</style>"
      ],
      "text/plain": [
       "<IPython.core.display.HTML object>"
      ]
     },
     "metadata": {},
     "output_type": "display_data"
    },
    {
     "data": {
      "text/html": [
       "<style>.output_png { display: table-cell; text-align: center; vertical-align: middle; } </style>"
      ],
      "text/plain": [
       "<IPython.core.display.HTML object>"
      ]
     },
     "metadata": {},
     "output_type": "display_data"
    },
    {
     "data": {
      "text/html": [
       "<style>.MathJax {font-size: 100%;}</style>"
      ],
      "text/plain": [
       "<IPython.core.display.HTML object>"
      ]
     },
     "metadata": {},
     "output_type": "display_data"
    }
   ],
   "source": [
    "# IPython display functions\n",
    "import IPython\n",
    "from IPython.display import display, HTML, SVG, Image\n",
    "\n",
    "# General Plotting\n",
    "import matplotlib.pyplot as plt\n",
    "\n",
    "plt.style.use('seaborn-paper')\n",
    "plt.rcParams['figure.figsize'] = [10, 6] ## plot size\n",
    "plt.rcParams['axes.linewidth'] = 2.0 #set the value globally\n",
    "\n",
    "## notebook style and settings\n",
    "display(HTML(\"<style>.container { width:90% !important; }</style>\"))\n",
    "display(HTML(\"<style>.output_png { display: table-cell; text-align: center; vertical-align: middle; } </style>\"))\n",
    "display(HTML(\"<style>.MathJax {font-size: 100%;}</style>\"))\n",
    "\n",
    "# For changing background color\n",
    "def set_background(color):\n",
    "    script = ( \"var cell = this.closest('.code_cell');\" \"var editor = cell.querySelector('.input_area');\" \"editor.style.background='{}';\" \"this.parentNode.removeChild(this)\" ).format(color)\n",
    "    display(HTML('<img src onerror=\"{}\">'.format(script)))"
   ]
  },
  {
   "cell_type": "markdown",
   "metadata": {
    "cell_id": "d162b4c90fb84d43a4d7e8869eb154a5",
    "deepnote_cell_height": 52.390625,
    "deepnote_cell_type": "markdown"
   },
   "source": [
    "Library Imports"
   ]
  },
  {
   "cell_type": "code",
   "execution_count": 3,
   "metadata": {
    "cell_id": "6d8fd0214dcc468db6169e15673e9a1f",
    "deepnote_cell_type": "code",
    "deepnote_to_be_reexecuted": false,
    "execution_millis": 577,
    "execution_start": 1673120430902,
    "source_hash": "3cfdb3f9"
   },
   "outputs": [],
   "source": [
    "import os\n",
    "import sys\n",
    "import random\n",
    "import numpy as np\n",
    "import pandas as pd\n",
    "from os import walk\n",
    "\n",
    "# Metrics\n",
    "from sklearn.metrics import *\n",
    "\n",
    "# Keras library for deep learning\n",
    "# https://keras.io/\n",
    "import tensorflow as tf\n",
    "import keras\n",
    "from keras.datasets import mnist # MNIST Data set\n",
    "from keras.models import Sequential # Model building\n",
    "from keras.layers import * # Model layers\n",
    "from keras.preprocessing.image import *\n",
    "from tensorflow.keras.utils import *\n",
    "from sklearn.model_selection import train_test_split\n",
    "\n",
    "import warnings\n",
    "warnings.simplefilter(action='ignore', category=FutureWarning)"
   ]
  },
  {
   "cell_type": "markdown",
   "metadata": {
    "cell_id": "56d28b3f813f4c6196e819610c08e46e",
    "deepnote_cell_height": 82,
    "deepnote_cell_type": "markdown"
   },
   "source": [
    "# 1. Helper Functions"
   ]
  },
  {
   "cell_type": "markdown",
   "metadata": {
    "cell_id": "5012e54e52a64414aab573cd3369328d",
    "deepnote_cell_height": 130.796875,
    "deepnote_cell_type": "markdown"
   },
   "source": [
    "## 1.1 Confusion Matrix\n",
    "Confusion matrices are an important toolkit in every data scientist's box. We have created a function for you that you can use to create visual confusion matrices and analyze your models."
   ]
  },
  {
   "cell_type": "code",
   "execution_count": 4,
   "metadata": {
    "cell_id": "03c1d405acb7400b98c1c54a43bad0e7",
    "deepnote_cell_type": "code",
    "deepnote_to_be_reexecuted": false,
    "execution_millis": 1,
    "execution_start": 1673120431485,
    "source_hash": "ca9c6cb7"
   },
   "outputs": [],
   "source": [
    "def displayConfusionMatrix(confusionMatrix, precisionNegative, precisionPositive, recallNegative, recallPositive, title):\n",
    "    # Set font size for the plots. You can ignore this line.\n",
    "    PLOT_FONT_SIZE = 14\n",
    "    \n",
    "    # Set plot size. Please ignore this line\n",
    "    plt.rcParams['figure.figsize'] = [5, 5]\n",
    "    \n",
    "    # Transpose of confusion matrix to align the plot with the actual precision recall values. Please ignore this as well.\n",
    "    confusionMatrix = np.transpose(confusionMatrix)\n",
    "    \n",
    "    # Plotting the confusion matrix\n",
    "    plt.imshow(confusionMatrix, interpolation='nearest',cmap=plt.cm.Blues, vmin=0, vmax=100)\n",
    "    \n",
    "    \n",
    "    # Setting plot properties. You should ignore everything from here on.\n",
    "    xticks = np.array([-0.5, 0, 1,1.5])\n",
    "    plt.gca().set_xticks(xticks)\n",
    "    plt.gca().set_yticks(xticks)\n",
    "    plt.gca().set_xticklabels([\"\", \"Healthy\\nRecall=\" + str(recallNegative) , \"Pneumonia\\nRecall=\" + str(recallPositive), \"\"], fontsize=PLOT_FONT_SIZE)\n",
    "    plt.gca().set_yticklabels([\"\", \"Healthy\\nPrecision=\" + str(precisionNegative) , \"Pneumonia\\nPrecision=\" + str(precisionPositive), \"\"], fontsize=PLOT_FONT_SIZE)\n",
    "    plt.ylabel(\"Predicted Class\", fontsize=PLOT_FONT_SIZE)\n",
    "    plt.xlabel(\"Actual Class\", fontsize=PLOT_FONT_SIZE)\n",
    "    plt.title(title, fontsize=PLOT_FONT_SIZE)\n",
    "        \n",
    "    # Add text in heatmap boxes\n",
    "    for i in range(2):\n",
    "        for j in range(2):\n",
    "            text = plt.text(j, i, confusionMatrix[i][j], ha=\"center\", va=\"center\", color=\"white\", size=15) ### size here is the size of text inside a single box in the heatmap\n",
    "            \n",
    "    plt.show()"
   ]
  },
  {
   "cell_type": "code",
   "execution_count": 5,
   "metadata": {
    "cell_id": "a27b21998a164aa593ff5e5603719336",
    "deepnote_cell_type": "code",
    "deepnote_to_be_reexecuted": false,
    "execution_millis": 2,
    "execution_start": 1673120431490,
    "source_hash": "1e07d900",
    "tags": []
   },
   "outputs": [],
   "source": [
    "def calculateMetrics(predictions, predictionsProbabilities, actualLabels):\n",
    "    # Convert label format from [0,1](label 1) and [1,0](label 0) into single integers: 1 and 0.\n",
    "    actualLabels = [item[1] for item in actualLabels]\n",
    "    \n",
    "    # Get probabilities for the class with label 1. That is all we need to compute AUCs. We don't need probabilities for class 0.\n",
    "    predictionsProbabilities = [item[1] for item in predictionsProbabilities]\n",
    "    \n",
    "    # Calculate metrics using scikit-learn functions. The round function is used to round the numbers up to 2 decimal points.\n",
    "    try:\n",
    "        accuracy = round(accuracy_score(actualLabels, predictions) * 100, 2)\n",
    "        precisionNegative = round(precision_score(actualLabels, predictions, average = None)[0] * 100, 2)\n",
    "        precisionPositive = round(precision_score(actualLabels, predictions, average = None)[1] * 100, 2)\n",
    "        recallNegative = round(recall_score(actualLabels, predictions, average = None)[0] * 100, 2)\n",
    "        recallPositive = round(recall_score(actualLabels, predictions, average = None)[1] * 100, 2)\n",
    "    except:\n",
    "        print(\"An exception occurred but was caught.\")\n",
    "    auc = round(roc_auc_score(actualLabels, predictionsProbabilities) * 100, 2)\n",
    "    \n",
    "    return auc"
   ]
  },
  {
   "cell_type": "markdown",
   "metadata": {
    "cell_id": "d3e776a8c3284ce4b72245118c1571a3",
    "deepnote_cell_height": 108.390625,
    "deepnote_cell_type": "markdown"
   },
   "source": [
    "## 1.2 Metrics Calculation\n",
    "We are giving you a function that will calculate all the metrics you'll need in order to analyze your model"
   ]
  },
  {
   "cell_type": "code",
   "execution_count": 6,
   "metadata": {
    "cell_id": "69d780fb5e3e48aa9aa799de3315dcda",
    "deepnote_cell_type": "code",
    "deepnote_to_be_reexecuted": false,
    "execution_millis": 1,
    "execution_start": 1673120431498,
    "source_hash": "656e6053"
   },
   "outputs": [],
   "source": [
    "def calculateMetricsAndPrint(predictions, predictionsProbabilities, actualLabels):\n",
    "    # Convert label format from [0,1](label 1) and [1,0](label 0) into single integers: 1 and 0.\n",
    "    actualLabels = [item[1] for item in actualLabels]\n",
    "    \n",
    "    # Get probabilities for the class with label 1. That is all we need to compute AUCs. We don't need probabilities for class 0.\n",
    "    predictionsProbabilities = [item[1] for item in predictionsProbabilities]\n",
    "    \n",
    "    # Calculate metrics using scikit-learn functions. The round function is used to round the numbers up to 2 decimal points.\n",
    "    accuracy = round(accuracy_score(actualLabels, predictions) * 100, 2)\n",
    "    precisionNegative = round(precision_score(actualLabels, predictions, average = None)[0] * 100, 2)\n",
    "    precisionPositive = round(precision_score(actualLabels, predictions, average = None)[1] * 100, 2)\n",
    "    recallNegative = round(recall_score(actualLabels, predictions, average = None)[0] * 100, 2)\n",
    "    recallPositive = round(recall_score(actualLabels, predictions, average = None)[1] * 100, 2)\n",
    "    auc = round(roc_auc_score(actualLabels, predictionsProbabilities) * 100, 2)\n",
    "    confusionMatrix = confusion_matrix(actualLabels, predictions)\n",
    "    \n",
    "    # Print metrics. .%2f prints a number upto 2 decimal points only.\n",
    "    print(\"------------------------------------------------------------------------\")\n",
    "    print(\"Accuracy: %.2f\\nPrecisionNegative: %.2f\\nPrecisionPositive: %.2f\\nRecallNegative: %.2f\\nRecallPositive: %.2f\\nAUC Score: %.2f\" % \n",
    "          (accuracy, precisionNegative, precisionPositive, recallNegative, recallPositive, auc))\n",
    "    print(\"------------------------------------------------------------------------\")\n",
    "    \n",
    "    print(\"+ Printing confusion matrix...\\n\")\n",
    "    # Display confusion matrix\n",
    "    displayConfusionMatrix(confusionMatrix, precisionNegative, precisionPositive, recallNegative, recallPositive, \"Confusion Matrix\")\n",
    "    \n",
    "    print(\"+ Printing ROC curve...\\n\")\n",
    "    # ROC Curve\n",
    "    plt.rcParams['figure.figsize'] = [16, 8]\n",
    "    FONT_SIZE = 16\n",
    "    falsePositiveRateDt, truePositiveRateDt, _ = roc_curve(actualLabels, predictionsProbabilities)\n",
    "    plt.plot(falsePositiveRateDt, truePositiveRateDt, linewidth = 5, color='black')\n",
    "    plt.xticks(fontsize=FONT_SIZE)\n",
    "    plt.yticks(fontsize=FONT_SIZE)\n",
    "    plt.xlabel(\"False Positive Rate\", fontsize=FONT_SIZE)\n",
    "    plt.ylabel(\"True Positive Rate\", fontsize=FONT_SIZE)\n",
    "    plt.show()\n",
    "    \n",
    "    return auc"
   ]
  },
  {
   "cell_type": "markdown",
   "metadata": {
    "cell_id": "f19c332adbdf489198b9713ee39871ef",
    "deepnote_cell_height": 70,
    "deepnote_cell_type": "markdown"
   },
   "source": [
    "## 1.3 Kaggle Predictions"
   ]
  },
  {
   "cell_type": "code",
   "execution_count": 7,
   "metadata": {
    "cell_id": "cb75c669fb6e498d8215eb38818f8ec7",
    "deepnote_cell_type": "code",
    "deepnote_to_be_reexecuted": false,
    "execution_millis": 1,
    "execution_start": 1673120431505,
    "source_hash": "96bc1348"
   },
   "outputs": [],
   "source": [
    "def getKagglePredictions(model, kaggleData, filename):\n",
    "    print(\"+ Writing kaggle test results in : results/%s...\" % filename)\n",
    "    predictions = model.predict(kaggleData)\n",
    "    predictionProbs = [item[1] for item in predictions]\n",
    "        \n",
    "    # Store predictions for kaggle\n",
    "    outputFile = open(\"results/\" + str(filename), \"w\")\n",
    "    outputFile.write(\"Id,Prediction\\n\")\n",
    "    for i in range(0, len(predictionProbs)):\n",
    "        outputFile.write(str(i + 1) + \",\" + str(predictionProbs[i]) + \"\\n\")\n",
    "    \n",
    "    outputFile.close()"
   ]
  },
  {
   "cell_type": "markdown",
   "metadata": {
    "cell_id": "75a32ef115994aeabf4d5311962c7b34",
    "deepnote_cell_height": 70,
    "deepnote_cell_type": "markdown"
   },
   "source": [
    "## 1.4 Top n% accuracy"
   ]
  },
  {
   "cell_type": "code",
   "execution_count": 8,
   "metadata": {
    "cell_id": "7cd0d10961d74c358f8673e0425eab97",
    "deepnote_cell_type": "code",
    "deepnote_to_be_reexecuted": false,
    "execution_millis": 0,
    "execution_start": 1673120431527,
    "owner_user_id": "17a5c176-c9f5-46e9-af17-ab5b0f1b5ce8",
    "source_hash": "8ea36c0f"
   },
   "outputs": [],
   "source": [
    "def calculateClasswiseTopNAccuracy(actualLabels, predictionsProbs, TOP_N):\n",
    "    \"\"\"\n",
    "    TOP_N is the top n% predictions you want to use for each class\n",
    "    \"\"\"\n",
    "\n",
    "    discreteActualLabels = [1 if item[1] > item[0] else 0 for item in actualLabels]\n",
    "    discretePredictions = [1 if item[1] > item[0] else 0 for item in predictionsProbs]\n",
    "    predictionProbsTopNHealthy, predictionProbsTopNPneumonia = [item[0] for item in predictionsProbs], [item[1] for item in predictionsProbs]\n",
    "    predictionProbsTopNHealthy = list(reversed(sorted(predictionProbsTopNHealthy)))[:int(len(predictionProbsTopNHealthy) * TOP_N / 100)][-1]\n",
    "    predictionProbsTopNPneumonia = list(reversed(sorted(predictionProbsTopNPneumonia)))[:int(len(predictionProbsTopNPneumonia) * TOP_N / 100)][-1]\n",
    "\n",
    "    # Calculate accuracy for both classes\n",
    "    accuracyHealthy = []\n",
    "    accuracyPneumonia = []\n",
    "    for i in range(0, len(discretePredictions)):\n",
    "        if discretePredictions[i] == 1:\n",
    "            # Pneumonia\n",
    "            if predictionsProbs[i][1] > predictionProbsTopNPneumonia:\n",
    "                accuracyPneumonia.append(int(discreteActualLabels[i]) == 1)\n",
    "        else:\n",
    "            # Healthy\n",
    "            if predictionsProbs[i][0] > predictionProbsTopNHealthy:\n",
    "                accuracyHealthy.append(int(discreteActualLabels[i]) == 0)\n",
    "\n",
    "    accuracyHealthy = round((accuracyHealthy.count(True) * 100) / len(accuracyHealthy), 2)\n",
    "    accuracyPneumonia = round((accuracyPneumonia.count(True) * 100) / len(accuracyPneumonia), 2)\n",
    "    return accuracyHealthy, accuracyPneumonia"
   ]
  },
  {
   "cell_type": "markdown",
   "metadata": {
    "cell_id": "5375adb2e0e646648410d097ce7dd87a",
    "deepnote_cell_height": 176.390625,
    "deepnote_cell_type": "markdown"
   },
   "source": [
    "# 2. Data Loading\n",
    "## 2.1 Loading File Paths\n",
    "We will first load file paths from normal and pneumonia folders in the train directory."
   ]
  },
  {
   "cell_type": "code",
   "execution_count": 9,
   "metadata": {
    "cell_id": "35ea1d34534a4edeacf3b4577dab5e92",
    "deepnote_cell_type": "code",
    "deepnote_to_be_reexecuted": false,
    "execution_millis": 2,
    "execution_start": 1673120431527,
    "source_hash": "932cd718"
   },
   "outputs": [
    {
     "name": "stdout",
     "output_type": "stream",
     "text": [
      "1436\n",
      "Normal X-ray images: 1436\n",
      "Pneumonia X-ray images: 1436\n"
     ]
    }
   ],
   "source": [
    "# Load normal images\n",
    "normalImagesPath = \"data/train/normal\"\n",
    "normalImageFiles = []\n",
    "for(_,_,files) in walk(normalImagesPath):\n",
    "    normalImageFiles.extend(files)\n",
    "\n",
    "normalImagesPath2 = \"data/train/normal2\"\n",
    "for(_,_,files) in walk(normalImagesPath2):\n",
    "    normalImageFiles.extend(files)\n",
    "\n",
    "print(len(normalImageFiles))\n",
    "\n",
    "# Load pneumonia images\n",
    "pneumoniaImagesPath = \"data/train/pneumonia\"\n",
    "pneumoniaImageFiles = []\n",
    "for(_,_,files) in walk(pneumoniaImagesPath):\n",
    "    pneumoniaImageFiles.extend(files)\n",
    "    \n",
    "random.shuffle(pneumoniaImageFiles)\n",
    "pneumoniaImageFiles = pneumoniaImageFiles[:len(normalImageFiles)]\n",
    "print(\"Normal X-ray images: %d\\nPneumonia X-ray images: %d\" % (len(normalImageFiles), len(pneumoniaImageFiles)))"
   ]
  },
  {
   "cell_type": "markdown",
   "metadata": {
    "cell_id": "ef0ed0b823d24bb891e2ea1ba521d085",
    "deepnote_cell_height": 118,
    "deepnote_cell_type": "markdown"
   },
   "source": [
    "## 2.2 Loading Image Data\n",
    "### 2.2.1 Training and Validation"
   ]
  },
  {
   "cell_type": "code",
   "execution_count": 10,
   "metadata": {
    "cell_id": "55fecbf7574743ddb76811f790ca9274",
    "deepnote_cell_type": "code",
    "deepnote_to_be_reexecuted": false,
    "execution_millis": 6859,
    "execution_start": 1673120431528,
    "source_hash": "cc7c3793"
   },
   "outputs": [
    {
     "name": "stdout",
     "output_type": "stream",
     "text": [
      "Input data shape: (2872, 256, 256, 1)\n"
     ]
    }
   ],
   "source": [
    "imagesData = []\n",
    "imagesLabels = []\n",
    "\n",
    "for file in normalImageFiles:\n",
    "    fullPath = normalImagesPath + \"/\" + file\n",
    "    if os.path.exists(fullPath) == False:\n",
    "        fullPath = normalImagesPath2 + \"/\" + file\n",
    "        if os.path.exists(fullPath) == False:\n",
    "            continue\n",
    "    imageData = load_img(fullPath, color_mode = \"grayscale\") # load_img function comes from keras library when we do \"from keras.preprocessing.image import *\"\n",
    "    imageArray = img_to_array(imageData) / 255.0\n",
    "    \n",
    "    imagesData.append(imageArray)\n",
    "    imagesLabels.append(0)\n",
    "    \n",
    "\n",
    "for file in pneumoniaImageFiles:\n",
    "    fullPath = pneumoniaImagesPath + \"/\" + file\n",
    "    if os.path.exists(fullPath) == False:\n",
    "            continue\n",
    "            \n",
    "    imageData = load_img(pneumoniaImagesPath + \"/\" + file, color_mode = \"grayscale\") # load_img function comes from keras library when we do \"from keras.preprocessing.image import *\"\n",
    "    imageArray = img_to_array(imageData) / 255.0\n",
    "    \n",
    "    imagesData.append(imageArray)\n",
    "    imagesLabels.append(1)\n",
    "\n",
    "imagesData = np.array(imagesData)\n",
    "imagesLabels = keras.utils.to_categorical(imagesLabels)\n",
    "print(\"Input data shape: %s\" % (imagesData.shape,))"
   ]
  },
  {
   "cell_type": "code",
   "execution_count": 11,
   "metadata": {},
   "outputs": [
    {
     "data": {
      "text/plain": [
       "'\\nfrom zipfile import ZipFile\\nfile_name = \"data/test.zip\"\\n\\n# opening the zip file in READ mode \\nwith ZipFile(file_name, \\'r\\') as zip: \\n    # printing all the contents of the zip file \\n    zip.printdir() \\n  \\n    # extracting all the files \\n    print(\\'Extracting all the files now...\\') \\n    zip.extractall(\"data/\") \\n    print(\\'Done!\\')\\n'"
      ]
     },
     "execution_count": 11,
     "metadata": {},
     "output_type": "execute_result"
    }
   ],
   "source": [
    "\"\"\"\n",
    "from zipfile import ZipFile\n",
    "file_name = \"data/test.zip\"\n",
    "\n",
    "# opening the zip file in READ mode \n",
    "with ZipFile(file_name, 'r') as zip: \n",
    "    # printing all the contents of the zip file \n",
    "    zip.printdir() \n",
    "  \n",
    "    # extracting all the files \n",
    "    print('Extracting all the files now...') \n",
    "    zip.extractall(\"data/\") \n",
    "    print('Done!')\n",
    "\"\"\""
   ]
  },
  {
   "cell_type": "markdown",
   "metadata": {
    "cell_id": "710b0e5d4a6d4f0eb660734b1b6cd98b",
    "deepnote_cell_height": 62,
    "deepnote_cell_type": "markdown"
   },
   "source": [
    "### 2.2.2 Kaggle Testing Data"
   ]
  },
  {
   "cell_type": "code",
   "execution_count": 12,
   "metadata": {
    "cell_id": "7326dea8d8cd40ac87874e3511567cd4",
    "deepnote_cell_type": "code",
    "deepnote_to_be_reexecuted": false,
    "execution_millis": 592,
    "execution_start": 1673120438389,
    "source_hash": "e28f1a93"
   },
   "outputs": [
    {
     "name": "stdout",
     "output_type": "stream",
     "text": [
      "Number of test images: 200\n"
     ]
    }
   ],
   "source": [
    "testImagesPath = \"data/test/\"\n",
    "testImageFiles = []\n",
    "for(_,_,files) in walk(testImagesPath):\n",
    "    testImageFiles.extend(files)\n",
    "testImageFiles = list(sorted(testImageFiles))\n",
    "    \n",
    "kaggleTestImages = []\n",
    "for file in testImageFiles:\n",
    "    fullPath = testImagesPath + \"/\" + file\n",
    "    if os.path.exists(fullPath) == False:\n",
    "        continue\n",
    "    imageData = load_img(testImagesPath + \"/\" + file, color_mode = \"grayscale\") # load_img function comes from keras library when we do \"from keras.preprocessing.image import *\"\n",
    "    imageArray = img_to_array(imageData) / 255.0\n",
    "    \n",
    "    kaggleTestImages.append(imageArray)\n",
    "    \n",
    "kaggleTestImages = np.array(kaggleTestImages)\n",
    "print(\"Number of test images: %d\" % len(kaggleTestImages))"
   ]
  },
  {
   "cell_type": "markdown",
   "metadata": {
    "cell_id": "4520817f0eaf48ef8a7f2e2a0832c19e",
    "deepnote_cell_height": 70,
    "deepnote_cell_type": "markdown"
   },
   "source": [
    "## 2.3 Data Splitting into Training and Validation"
   ]
  },
  {
   "cell_type": "code",
   "execution_count": 13,
   "metadata": {
    "cell_id": "5102bbf73ec74aa396dae6c18c96e9c2",
    "deepnote_cell_type": "code",
    "deepnote_to_be_reexecuted": false,
    "execution_millis": 0,
    "execution_start": 1673120439026,
    "source_hash": "1a7dcdf7"
   },
   "outputs": [],
   "source": [
    "def trainTestSplit(data, labels):\n",
    "    \"\"\"\n",
    "    80-20 train-test data split\n",
    "    \"\"\"\n",
    "    trainData, trainLabels, testData, testLabels = [], [], [], []\n",
    "    for i in range(0, len(data)):\n",
    "        if i % 5 == 0:\n",
    "            testData.append(data[i])\n",
    "            testLabels.append(labels[i])\n",
    "        else:\n",
    "            trainData.append(data[i])\n",
    "            trainLabels.append(labels[i])\n",
    "            \n",
    "    return np.array(trainData), np.array(testData), np.array(trainLabels), np.array(testLabels)"
   ]
  },
  {
   "cell_type": "code",
   "execution_count": 14,
   "metadata": {
    "cell_id": "ebe164d853964bf580f5bb76c53cc470",
    "deepnote_cell_type": "code",
    "deepnote_to_be_reexecuted": false,
    "execution_millis": 98,
    "execution_start": 1673120439026,
    "source_hash": "a389ed2a"
   },
   "outputs": [],
   "source": [
    "# In our context, since we have a private test data on kaggle, our test data here would actually mean validation data. We will use results on this validation(test) data to see how our model would perform on the actual test data.\n",
    "# Split data into 80% training and 20% testing\n",
    "trainData, testData, trainLabels, testLabels = trainTestSplit(imagesData, imagesLabels)"
   ]
  },
  {
   "cell_type": "markdown",
   "metadata": {
    "cell_id": "514a99a1b50844eb8467960ff89e648f",
    "deepnote_cell_height": 257.59375,
    "deepnote_cell_type": "markdown"
   },
   "source": [
    "# 3. Deep Learning Models\n",
    "We will use keras to create deep learning models. Since we are dealing with images, we will use convolutional layers. For more details, please visit: https://keras.io/layers/convolutional/\n",
    "\n",
    "\n",
    "## 3.1 Parameterized Convolutional Neural Networks\n",
    "We will first provide you with a simple function that takes in a few parameters and create a convolutional neural network model for you. This is the easiest way to create a CNN model."
   ]
  },
  {
   "cell_type": "code",
   "execution_count": 15,
   "metadata": {
    "cell_id": "44ec4cc4465e4e05b4cd8fa14ea13c31",
    "deepnote_cell_type": "code",
    "deepnote_to_be_reexecuted": false,
    "execution_millis": 1,
    "execution_start": 1673120439140,
    "source_hash": "5c0a232b"
   },
   "outputs": [],
   "source": [
    "from keras.metrics import AUC\n",
    "\n",
    "def createParameterizedConvolutionalNeuralNetwork(trainImages, numLayers, numFilters, kernelSize, maxPooling, dropoutValue, learningRate, numClasses):\n",
    "    # Create model object\n",
    "    model = Sequential()\n",
    "    \n",
    "    # Add the first layer with dropout\n",
    "    model.add(Conv2D(numFilters, kernel_size=(kernelSize, kernelSize),\n",
    "                     activation='relu', padding='same',\n",
    "                     input_shape=trainImages.shape[1:]))\n",
    "    model.add(MaxPooling2D(pool_size=(maxPooling, maxPooling)))\n",
    "    model.add(Dropout(dropoutValue))\n",
    "    \n",
    "    while numLayers > 1:\n",
    "        model.add(Conv2D(numFilters, kernel_size=(kernelSize, kernelSize),\n",
    "                         activation='relu', padding='same'))\n",
    "        model.add(MaxPooling2D(pool_size=(maxPooling, maxPooling)))\n",
    "        model.add(Dropout(dropoutValue))\n",
    "        numLayers -= 1\n",
    "    \n",
    "    # Flatten and Dense Layers\n",
    "    model.add(Flatten())\n",
    "    model.add(Dense(64, activation='relu'))\n",
    "    model.add(Dropout(dropoutValue))\n",
    "    model.add(Dense(numClasses, activation='softmax'))\n",
    "\n",
    "    # ✅ Compile model with AUC metric\n",
    "    model.compile(loss=keras.losses.categorical_crossentropy,\n",
    "                  optimizer=keras.optimizers.Adam(learning_rate=learningRate),\n",
    "                  metrics=['accuracy', AUC(name='auc')])\n",
    "\n",
    "    return model\n"
   ]
  },
  {
   "cell_type": "markdown",
   "metadata": {
    "cell_id": "85a6384fe38d4bdfaee68314facc2390",
    "deepnote_cell_height": 130.796875,
    "deepnote_cell_type": "markdown"
   },
   "source": [
    "## 3.2 More Nuanced Convolutional Neural Networks\n",
    "In this section, we provide you with a function where you can edit tiny details of the model to see if it can give you a greater lift as compared to the parameterized model."
   ]
  },
  {
   "cell_type": "code",
   "execution_count": 16,
   "metadata": {
    "cell_id": "a0e3c77fb9fb43ab9b2e2722e257fad2",
    "deepnote_cell_type": "code",
    "deepnote_to_be_reexecuted": false,
    "execution_millis": 0,
    "execution_start": 1673120439141,
    "source_hash": "1dc053fa"
   },
   "outputs": [],
   "source": [
    "from keras.layers import BatchNormalization\n",
    "\n",
    "def createNuancedConvolutionalNeuralNetwork(trainImages, numClasses):\n",
    "    model = Sequential()\n",
    "\n",
    "    # First Conv Block\n",
    "    model.add(Conv2D(64, (5, 5), activation='relu', padding='same', input_shape=trainImages.shape[1:]))\n",
    "    model.add(BatchNormalization())\n",
    "    model.add(MaxPooling2D(pool_size=(3, 3)))\n",
    "    model.add(Dropout(0.5))\n",
    "\n",
    "    # Second Conv Block\n",
    "    model.add(Conv2D(32, (3, 3), activation='relu', padding='same'))\n",
    "    model.add(BatchNormalization())\n",
    "    model.add(Dropout(0.3))\n",
    "\n",
    "    # Third Conv Block\n",
    "    model.add(Conv2D(32, (3, 3), activation='relu', padding='same'))\n",
    "    model.add(BatchNormalization())\n",
    "    model.add(Dropout(0.3))\n",
    "\n",
    "    # Dense Layers\n",
    "    model.add(Flatten())\n",
    "    model.add(Dense(128, activation='relu'))\n",
    "    model.add(Dropout(0.5))\n",
    "    model.add(Dense(numClasses, activation='softmax'))\n",
    "\n",
    "    # Compile with AUC Metric\n",
    "    model.compile(loss='categorical_crossentropy',\n",
    "                  optimizer=keras.optimizers.Adam(learning_rate=0.0001),\n",
    "                  metrics=['accuracy', tf.keras.metrics.AUC(name='auc')])\n",
    "    \n",
    "    return model\n",
    "\n",
    "\n",
    "\n",
    "\n",
    "from keras.regularizers import l2\n",
    "from keras.layers import BatchNormalization\n",
    "\n",
    "def createOptimizedCNN(input_shape, num_classes):\n",
    "    model = Sequential()\n",
    "\n",
    "    # First Convolutional Block\n",
    "    model.add(Conv2D(64, (5, 5), activation='relu', padding='same', kernel_regularizer=l2(0.001), input_shape=input_shape))\n",
    "    model.add(BatchNormalization())\n",
    "    model.add(MaxPooling2D(pool_size=(3, 3)))\n",
    "    model.add(Dropout(0.5))\n",
    "\n",
    "    # Second Convolutional Block\n",
    "    model.add(Conv2D(128, (3, 3), activation='relu', padding='same', kernel_regularizer=l2(0.001)))\n",
    "    model.add(BatchNormalization())\n",
    "    model.add(MaxPooling2D(pool_size=(2, 2)))\n",
    "    model.add(Dropout(0.4))\n",
    "\n",
    "    # Third Convolutional Block\n",
    "    model.add(Conv2D(256, (3, 3), activation='relu', padding='same', kernel_regularizer=l2(0.001)))\n",
    "    model.add(BatchNormalization())\n",
    "    model.add(Dropout(0.4))\n",
    "\n",
    "    # Flatten and Dense Layers\n",
    "    model.add(Flatten())\n",
    "    model.add(Dense(512, activation='relu'))\n",
    "    model.add(Dropout(0.5))\n",
    "    model.add(Dense(num_classes, activation='softmax'))\n",
    "\n",
    "    # Compile the model with AUC as a metric\n",
    "    model.compile(\n",
    "        optimizer=keras.optimizers.Adam(learning_rate=0.0001),\n",
    "        loss='categorical_crossentropy',\n",
    "        metrics=['accuracy', tf.keras.metrics.AUC(name='auc')]\n",
    "    )\n",
    "\n",
    "    return model\n"
   ]
  },
  {
   "cell_type": "markdown",
   "metadata": {
    "cell_id": "a664454b84af4ef894ec0f4a2e7b4d3b",
    "deepnote_cell_height": 221.1875,
    "deepnote_cell_type": "markdown"
   },
   "source": [
    "# 4. Model Training\n",
    "## 4.1 Data Augmentation\n",
    "Deep learning models require huge amounts of data for good performance. Since we only have around 5k examples, we will use what's called \"Data Augmentation\" to create more data. To read more on data augmentation, please visit: https://towardsdatascience.com/data-augmentation-for-deep-learning-4fe21d1a4eb9"
   ]
  },
  {
   "cell_type": "code",
   "execution_count": 17,
   "metadata": {
    "cell_id": "f0f025ef0d3e4a6f91a101fc1368051d",
    "deepnote_cell_type": "code",
    "deepnote_to_be_reexecuted": false,
    "execution_millis": 3,
    "execution_start": 1673120439142,
    "source_hash": "3ac9de27"
   },
   "outputs": [
    {
     "data": {
      "text/html": [
       "<img src onerror=\"var cell = this.closest('.code_cell');var editor = cell.querySelector('.input_area');editor.style.background='#fce53a';this.parentNode.removeChild(this)\">"
      ],
      "text/plain": [
       "<IPython.core.display.HTML object>"
      ]
     },
     "metadata": {},
     "output_type": "display_data"
    }
   ],
   "source": [
    "set_background('#fce53a')\n",
    "\n",
    "#####################################################################################################################################################\n",
    "# Things you can change                                                                                                                             \n",
    "#####################################################################################################################################################\n",
    "\n",
    "# You can change all these parameters for different results. Please go to the following links to read more about each parameter: \n",
    "# https://keras.io/preprocessing/image/\n",
    "# https://www.pyimagesearch.com/2019/07/08/keras-imagedatagenerator-and-data-augmentation/\n",
    "dataAugmentation = ImageDataGenerator(\n",
    "    rotation_range=15,        # Slightly more rotation\n",
    "    width_shift_range=0.1,\n",
    "    height_shift_range=0.1,\n",
    "    horizontal_flip=True,\n",
    "    zoom_range=0.2,           # Slightly more aggressive zoom\n",
    "    shear_range=0.15\n",
    ")\n"
   ]
  },
  {
   "cell_type": "markdown",
   "metadata": {
    "cell_id": "55675ff44a4c41a7bf3776eac6d0f2b7",
    "deepnote_cell_height": 70,
    "deepnote_cell_type": "markdown"
   },
   "source": [
    "## 4.2 Model Parameters"
   ]
  },
  {
   "cell_type": "code",
   "execution_count": 18,
   "metadata": {
    "cell_id": "dde1f5f79a6c48be80053186b2f9a362",
    "deepnote_cell_type": "code",
    "deepnote_to_be_reexecuted": false,
    "execution_millis": 79,
    "execution_start": 1673120439189,
    "source_hash": "64bc72de"
   },
   "outputs": [
    {
     "data": {
      "text/html": [
       "<img src onerror=\"var cell = this.closest('.code_cell');var editor = cell.querySelector('.input_area');editor.style.background='#fce53a';this.parentNode.removeChild(this)\">"
      ],
      "text/plain": [
       "<IPython.core.display.HTML object>"
      ]
     },
     "metadata": {},
     "output_type": "display_data"
    }
   ],
   "source": [
    "set_background('#fce53a')\n",
    "\n",
    "#####################################################################################################################################################\n",
    "# Things you can change                                                                                                                             \n",
    "#####################################################################################################################################################\n",
    "\n",
    "\n",
    "numLayers = 3          # Number of convolutional layers\n",
    "numFilters = 32        # Number of filters for the first conv layer\n",
    "kernelSize = 3         # Size of the convolutional kernel\n",
    "maxPooling = 2         # Pooling window size\n",
    "dropoutValue = 0.3     # Dropout rate to prevent overfitting\n",
    "learningRate = 0.0005  # Initial learning rate\n",
    "numClasses = 2         # Binary classification (Healthy vs Pneumonia)\n",
    "batchSize = 8        # Number of images per batch\n",
    "epochs = 30\n",
    "\n",
    "#####################################################################################################################################################\n",
    "\n",
    "\n",
    "# Please do not change this line.\n",
    "dataAugmentation.fit(trainData) # Training the augmentor in case we set USE_DATA_AUGMENTATION to True."
   ]
  },
  {
   "cell_type": "markdown",
   "metadata": {
    "cell_id": "305d2356eb614181b22ed2e927ead792",
    "deepnote_cell_height": 70,
    "deepnote_cell_type": "markdown"
   },
   "source": [
    "## 4.3 Training and Validation"
   ]
  },
  {
   "cell_type": "markdown",
   "metadata": {
    "cell_id": "15a589683f49499ca7123d1824cc5fed",
    "deepnote_cell_height": 62,
    "deepnote_cell_type": "markdown"
   },
   "source": [
    "### 4.3.1 Model Instantiation"
   ]
  },
  {
   "cell_type": "code",
   "execution_count": 19,
   "metadata": {
    "cell_id": "a58944a9209f49d99d7b84d19a9a2834",
    "deepnote_cell_type": "code",
    "deepnote_to_be_reexecuted": false,
    "execution_millis": 254,
    "execution_start": 1673120439270,
    "source_hash": "ebe3f66e"
   },
   "outputs": [
    {
     "name": "stdout",
     "output_type": "stream",
     "text": [
      "+ Your parameterized model has been created...\n"
     ]
    }
   ],
   "source": [
    "# Create model\n",
    "parameterizedModel = createParameterizedConvolutionalNeuralNetwork(trainData, numLayers, numFilters, kernelSize, maxPooling, dropoutValue, learningRate, numClasses=2)\n",
    "print(\"+ Your parameterized model has been created...\")"
   ]
  },
  {
   "cell_type": "code",
   "execution_count": 20,
   "metadata": {
    "cell_id": "16db5ab459b444128f6385ac4bfd2668",
    "deepnote_cell_type": "code",
    "deepnote_to_be_reexecuted": false,
    "execution_millis": 55,
    "execution_start": 1673120439528,
    "source_hash": "713b3f04"
   },
   "outputs": [
    {
     "name": "stdout",
     "output_type": "stream",
     "text": [
      "+ Your non parameterized model has been created...\n"
     ]
    }
   ],
   "source": [
    "# You can create the other model with the following line\n",
    "nonParameterizedModel = createNuancedConvolutionalNeuralNetwork(imagesData, numClasses = 2)\n",
    "print(\"+ Your non parameterized model has been created...\")"
   ]
  },
  {
   "cell_type": "code",
   "execution_count": 21,
   "metadata": {
    "cell_id": "9ef3f3346e6c4d54a5c4906e5849a781",
    "deepnote_cell_type": "code",
    "deepnote_to_be_reexecuted": false,
    "execution_millis": 1,
    "execution_start": 1673120439626,
    "source_hash": "5176a77d"
   },
   "outputs": [],
   "source": [
    "#####################################################################################################################################################\n",
    "# Things you can change                                                                                                                             \n",
    "#####################################################################################################################################################\n",
    "\n",
    "# Please assign model the deep learning model you want to use i.e parameterizedModel or nonParameterizedModel\n",
    "model = parameterizedModel"
   ]
  },
  {
   "cell_type": "markdown",
   "metadata": {
    "cell_id": "ae5a544df48c42d5ac9a572466329ca5",
    "deepnote_cell_height": 62,
    "deepnote_cell_type": "markdown"
   },
   "source": [
    "### 4.3.2 Model Training and Validation"
   ]
  },
  {
   "cell_type": "code",
   "execution_count": 22,
   "metadata": {
    "cell_id": "8dec7a07422d49438054da63e64ed163",
    "deepnote_cell_type": "code",
    "deepnote_to_be_reexecuted": false,
    "execution_millis": 46625,
    "execution_start": 1673120439627,
    "source_hash": "bf2960e9"
   },
   "outputs": [
    {
     "name": "stdout",
     "output_type": "stream",
     "text": [
      "+ Starting training. Each epoch can take about 2-5 minutes, hold tight!\n",
      "-----------------------------------------------------------------------\n",
      "\n",
      "Epoch 1/30\n",
      "288/288 - 205s - loss: 2.4118 - accuracy: 0.7353 - auc: 0.7901 - val_loss: 142.2976 - val_accuracy: 0.5009 - val_auc: 0.5009 - lr: 1.0000e-04 - 205s/epoch - 710ms/step\n",
      "Epoch 2/30\n",
      "288/288 - 200s - loss: 0.8436 - accuracy: 0.8071 - auc: 0.8905 - val_loss: 126.7935 - val_accuracy: 0.5009 - val_auc: 0.5009 - lr: 1.0000e-04 - 200s/epoch - 693ms/step\n",
      "Epoch 3/30\n",
      "288/288 - 199s - loss: 0.7634 - accuracy: 0.8380 - auc: 0.9036 - val_loss: 1.7082 - val_accuracy: 0.7948 - val_auc: 0.8544 - lr: 1.0000e-04 - 199s/epoch - 692ms/step\n",
      "Epoch 4/30\n",
      "288/288 - 199s - loss: 0.6828 - accuracy: 0.8472 - auc: 0.9279 - val_loss: 6.4984 - val_accuracy: 0.7357 - val_auc: 0.7478 - lr: 1.0000e-04 - 199s/epoch - 691ms/step\n",
      "Epoch 5/30\n",
      "288/288 - 202s - loss: 0.6674 - accuracy: 0.8681 - auc: 0.9330 - val_loss: 28.9572 - val_accuracy: 0.5548 - val_auc: 0.5632 - lr: 1.0000e-04 - 202s/epoch - 700ms/step\n",
      "Epoch 1/30\n",
      "Epoch 1/50\n",
      "288/288 - 19s - loss: 0.8029 - accuracy: 0.5703 - auc: 0.6120 - val_loss: 0.4915 - val_accuracy: 0.7583 - val_auc: 0.8474 - lr: 5.0000e-04 - 19s/epoch - 67ms/step\n",
      "Epoch 2/50\n",
      "288/288 - 18s - loss: 0.4804 - accuracy: 0.8241 - auc: 0.8987 - val_loss: 0.2665 - val_accuracy: 0.9148 - val_auc: 0.9559 - lr: 5.0000e-04 - 18s/epoch - 63ms/step\n",
      "Epoch 3/50\n",
      "288/288 - 18s - loss: 0.4318 - accuracy: 0.8468 - auc: 0.9208 - val_loss: 0.2346 - val_accuracy: 0.9130 - val_auc: 0.9671 - lr: 5.0000e-04 - 18s/epoch - 63ms/step\n",
      "Epoch 4/50\n",
      "288/288 - 18s - loss: 0.3792 - accuracy: 0.8720 - auc: 0.9391 - val_loss: 0.3284 - val_accuracy: 0.8852 - val_auc: 0.9377 - lr: 5.0000e-04 - 18s/epoch - 63ms/step\n",
      "Epoch 5/50\n",
      "288/288 - 18s - loss: 0.3819 - accuracy: 0.8755 - auc: 0.9394 - val_loss: 0.2586 - val_accuracy: 0.9183 - val_auc: 0.9652 - lr: 5.0000e-04 - 18s/epoch - 63ms/step\n",
      "18/18 [==============================] - 1s 43ms/step\n",
      "+ Test accuracy at epoch 1 is: 91.30\n",
      "+ Test AUC at epoch 1 is: 96.790\n",
      "+ Writing kaggle test results in : results/epoch-1-results.csv...\n",
      "7/7 [==============================] - 0s 38ms/step\n",
      "+ Saved Kaggle predictions to epoch-1-results.csv\n",
      "\n",
      "\n",
      "------------------------------------------------------------------------\n",
      "\n",
      "Epoch 2/30\n",
      "Epoch 1/50\n",
      "288/288 - 19s - loss: 0.3781 - accuracy: 0.8781 - auc: 0.9390 - val_loss: 0.2302 - val_accuracy: 0.9235 - val_auc: 0.9675 - lr: 5.0000e-04 - 19s/epoch - 64ms/step\n",
      "Epoch 2/50\n",
      "288/288 - 18s - loss: 0.3792 - accuracy: 0.8685 - auc: 0.9411 - val_loss: 0.2247 - val_accuracy: 0.9235 - val_auc: 0.9683 - lr: 5.0000e-04 - 18s/epoch - 64ms/step\n",
      "Epoch 3/50\n",
      "288/288 - 18s - loss: 0.3582 - accuracy: 0.8825 - auc: 0.9468 - val_loss: 0.2533 - val_accuracy: 0.9096 - val_auc: 0.9628 - lr: 5.0000e-04 - 18s/epoch - 64ms/step\n",
      "Epoch 4/50\n",
      "288/288 - 19s - loss: 0.3700 - accuracy: 0.8838 - auc: 0.9433 - val_loss: 0.2164 - val_accuracy: 0.9339 - val_auc: 0.9711 - lr: 5.0000e-04 - 19s/epoch - 65ms/step\n",
      "Epoch 5/50\n",
      "288/288 - 18s - loss: 0.3496 - accuracy: 0.8946 - auc: 0.9491 - val_loss: 0.2364 - val_accuracy: 0.9148 - val_auc: 0.9648 - lr: 5.0000e-04 - 18s/epoch - 64ms/step\n",
      "Epoch 6/50\n",
      "288/288 - 18s - loss: 0.3429 - accuracy: 0.8899 - auc: 0.9498 - val_loss: 0.2436 - val_accuracy: 0.9200 - val_auc: 0.9632 - lr: 5.0000e-04 - 18s/epoch - 63ms/step\n",
      "18/18 [==============================] - 1s 43ms/step\n",
      "+ Test accuracy at epoch 2 is: 93.39\n",
      "+ Test AUC at epoch 2 is: 97.320\n",
      "+ Writing kaggle test results in : results/epoch-2-results.csv...\n",
      "7/7 [==============================] - 0s 38ms/step\n",
      "+ Saved Kaggle predictions to epoch-2-results.csv\n",
      "\n",
      "\n",
      "------------------------------------------------------------------------\n",
      "\n",
      "Epoch 3/30\n",
      "Epoch 1/50\n",
      "288/288 - 19s - loss: 0.3541 - accuracy: 0.8872 - auc: 0.9473 - val_loss: 0.2241 - val_accuracy: 0.9235 - val_auc: 0.9683 - lr: 5.0000e-04 - 19s/epoch - 65ms/step\n",
      "Epoch 2/50\n",
      "288/288 - 18s - loss: 0.3327 - accuracy: 0.8938 - auc: 0.9535 - val_loss: 0.2269 - val_accuracy: 0.9339 - val_auc: 0.9713 - lr: 5.0000e-04 - 18s/epoch - 64ms/step\n",
      "Epoch 3/50\n",
      "288/288 - 18s - loss: 0.3438 - accuracy: 0.8881 - auc: 0.9503 - val_loss: 0.2470 - val_accuracy: 0.9200 - val_auc: 0.9618 - lr: 5.0000e-04 - 18s/epoch - 64ms/step\n",
      "Epoch 4/50\n",
      "288/288 - 18s - loss: 0.3375 - accuracy: 0.8929 - auc: 0.9523 - val_loss: 0.2224 - val_accuracy: 0.9270 - val_auc: 0.9711 - lr: 5.0000e-04 - 18s/epoch - 64ms/step\n",
      "18/18 [==============================] - 1s 43ms/step\n",
      "+ Test accuracy at epoch 3 is: 93.39\n",
      "+ Test AUC at epoch 3 is: 97.180\n",
      "\n",
      "------------------------------------------------------------------------\n",
      "\n",
      "Epoch 4/30\n",
      "Epoch 1/50\n",
      "288/288 - 18s - loss: 0.3425 - accuracy: 0.8933 - auc: 0.9517 - val_loss: 0.2265 - val_accuracy: 0.9217 - val_auc: 0.9688 - lr: 5.0000e-04 - 18s/epoch - 64ms/step\n",
      "Epoch 2/50\n",
      "288/288 - 18s - loss: 0.3433 - accuracy: 0.8942 - auc: 0.9513 - val_loss: 0.2769 - val_accuracy: 0.8904 - val_auc: 0.9547 - lr: 5.0000e-04 - 18s/epoch - 64ms/step\n",
      "Epoch 3/50\n",
      "288/288 - 18s - loss: 0.3265 - accuracy: 0.8916 - auc: 0.9545 - val_loss: 0.2053 - val_accuracy: 0.9304 - val_auc: 0.9750 - lr: 5.0000e-04 - 18s/epoch - 64ms/step\n",
      "Epoch 4/50\n",
      "288/288 - 19s - loss: 0.3039 - accuracy: 0.9047 - auc: 0.9602 - val_loss: 0.2451 - val_accuracy: 0.9217 - val_auc: 0.9664 - lr: 5.0000e-04 - 19s/epoch - 67ms/step\n",
      "Epoch 5/50\n",
      "288/288 - 19s - loss: 0.3177 - accuracy: 0.9034 - auc: 0.9575 - val_loss: 0.1987 - val_accuracy: 0.9357 - val_auc: 0.9757 - lr: 5.0000e-04 - 19s/epoch - 65ms/step\n",
      "Epoch 6/50\n",
      "288/288 - 19s - loss: 0.3107 - accuracy: 0.8973 - auc: 0.9582 - val_loss: 0.2342 - val_accuracy: 0.9252 - val_auc: 0.9695 - lr: 5.0000e-04 - 19s/epoch - 64ms/step\n",
      "Epoch 7/50\n",
      "288/288 - 18s - loss: 0.2909 - accuracy: 0.9090 - auc: 0.9647 - val_loss: 0.2581 - val_accuracy: 0.9183 - val_auc: 0.9658 - lr: 5.0000e-04 - 18s/epoch - 64ms/step\n",
      "18/18 [==============================] - 1s 43ms/step\n",
      "+ Test accuracy at epoch 4 is: 93.56\n",
      "+ Test AUC at epoch 4 is: 97.590\n",
      "+ Writing kaggle test results in : results/epoch-4-results.csv...\n",
      "7/7 [==============================] - 0s 39ms/step\n",
      "+ Saved Kaggle predictions to epoch-4-results.csv\n",
      "\n",
      "\n",
      "------------------------------------------------------------------------\n",
      "\n",
      "Epoch 5/30\n",
      "Epoch 1/50\n",
      "288/288 - 19s - loss: 0.3013 - accuracy: 0.9081 - auc: 0.9613 - val_loss: 0.2134 - val_accuracy: 0.9409 - val_auc: 0.9720 - lr: 5.0000e-04 - 19s/epoch - 66ms/step\n",
      "Epoch 2/50\n",
      "288/288 - 19s - loss: 0.2904 - accuracy: 0.9055 - auc: 0.9641 - val_loss: 0.1985 - val_accuracy: 0.9322 - val_auc: 0.9751 - lr: 5.0000e-04 - 19s/epoch - 67ms/step\n",
      "Epoch 3/50\n",
      "288/288 - 20s - loss: 0.2952 - accuracy: 0.9138 - auc: 0.9630 - val_loss: 0.2254 - val_accuracy: 0.9374 - val_auc: 0.9711 - lr: 5.0000e-04 - 20s/epoch - 68ms/step\n",
      "Epoch 4/50\n",
      "288/288 - 19s - loss: 0.2893 - accuracy: 0.9081 - auc: 0.9638 - val_loss: 0.1878 - val_accuracy: 0.9443 - val_auc: 0.9770 - lr: 5.0000e-04 - 19s/epoch - 68ms/step\n",
      "Epoch 5/50\n",
      "288/288 - 19s - loss: 0.2778 - accuracy: 0.9147 - auc: 0.9669 - val_loss: 0.1971 - val_accuracy: 0.9374 - val_auc: 0.9745 - lr: 5.0000e-04 - 19s/epoch - 67ms/step\n",
      "Epoch 6/50\n",
      "288/288 - 20s - loss: 0.2876 - accuracy: 0.9020 - auc: 0.9647 - val_loss: 0.1956 - val_accuracy: 0.9357 - val_auc: 0.9785 - lr: 5.0000e-04 - 20s/epoch - 69ms/step\n",
      "Epoch 7/50\n",
      "288/288 - 19s - loss: 0.2974 - accuracy: 0.9103 - auc: 0.9636 - val_loss: 0.1916 - val_accuracy: 0.9426 - val_auc: 0.9768 - lr: 5.0000e-04 - 19s/epoch - 67ms/step\n",
      "Epoch 8/50\n",
      "288/288 - 19s - loss: 0.3018 - accuracy: 0.9129 - auc: 0.9609 - val_loss: 0.1867 - val_accuracy: 0.9409 - val_auc: 0.9819 - lr: 5.0000e-04 - 19s/epoch - 66ms/step\n",
      "Epoch 9/50\n",
      "288/288 - 20s - loss: 0.2914 - accuracy: 0.9116 - auc: 0.9644 - val_loss: 0.1881 - val_accuracy: 0.9426 - val_auc: 0.9795 - lr: 5.0000e-04 - 20s/epoch - 69ms/step\n",
      "Epoch 10/50\n",
      "288/288 - 19s - loss: 0.2892 - accuracy: 0.9103 - auc: 0.9636 - val_loss: 0.1937 - val_accuracy: 0.9443 - val_auc: 0.9770 - lr: 5.0000e-04 - 19s/epoch - 67ms/step\n",
      "18/18 [==============================] - 1s 44ms/step\n",
      "+ Test accuracy at epoch 5 is: 94.09\n",
      "+ Test AUC at epoch 5 is: 98.140\n",
      "+ Writing kaggle test results in : results/epoch-5-results.csv...\n",
      "7/7 [==============================] - 0s 39ms/step\n",
      "+ Saved Kaggle predictions to epoch-5-results.csv\n",
      "\n",
      "\n",
      "------------------------------------------------------------------------\n",
      "\n",
      "Epoch 6/30\n",
      "Epoch 1/50\n",
      "288/288 - 19s - loss: 0.3047 - accuracy: 0.9090 - auc: 0.9604 - val_loss: 0.1950 - val_accuracy: 0.9339 - val_auc: 0.9754 - lr: 5.0000e-04 - 19s/epoch - 67ms/step\n",
      "Epoch 2/50\n",
      "288/288 - 20s - loss: 0.2666 - accuracy: 0.9225 - auc: 0.9694 - val_loss: 0.1914 - val_accuracy: 0.9339 - val_auc: 0.9781 - lr: 5.0000e-04 - 20s/epoch - 68ms/step\n",
      "Epoch 3/50\n",
      "288/288 - 19s - loss: 0.2904 - accuracy: 0.9086 - auc: 0.9631 - val_loss: 0.2152 - val_accuracy: 0.9235 - val_auc: 0.9737 - lr: 5.0000e-04 - 19s/epoch - 67ms/step\n",
      "Epoch 4/50\n",
      "288/288 - 19s - loss: 0.2691 - accuracy: 0.9147 - auc: 0.9689 - val_loss: 0.1926 - val_accuracy: 0.9443 - val_auc: 0.9784 - lr: 5.0000e-04 - 19s/epoch - 65ms/step\n",
      "Epoch 5/50\n",
      "288/288 - 19s - loss: 0.2896 - accuracy: 0.9147 - auc: 0.9632 - val_loss: 0.1934 - val_accuracy: 0.9443 - val_auc: 0.9798 - lr: 5.0000e-04 - 19s/epoch - 66ms/step\n",
      "Epoch 6/50\n",
      "288/288 - 18s - loss: 0.2685 - accuracy: 0.9177 - auc: 0.9686 - val_loss: 0.1708 - val_accuracy: 0.9461 - val_auc: 0.9831 - lr: 5.0000e-04 - 18s/epoch - 64ms/step\n",
      "Epoch 7/50\n",
      "288/288 - 18s - loss: 0.2696 - accuracy: 0.9199 - auc: 0.9687 - val_loss: 0.1806 - val_accuracy: 0.9374 - val_auc: 0.9803 - lr: 5.0000e-04 - 18s/epoch - 63ms/step\n",
      "Epoch 8/50\n",
      "288/288 - 18s - loss: 0.2716 - accuracy: 0.9186 - auc: 0.9685 - val_loss: 0.1854 - val_accuracy: 0.9426 - val_auc: 0.9801 - lr: 5.0000e-04 - 18s/epoch - 64ms/step\n",
      "18/18 [==============================] - 1s 43ms/step\n",
      "+ Test accuracy at epoch 6 is: 94.61\n",
      "+ Test AUC at epoch 6 is: 98.480\n",
      "+ Writing kaggle test results in : results/epoch-6-results.csv...\n",
      "7/7 [==============================] - 0s 38ms/step\n",
      "+ Saved Kaggle predictions to epoch-6-results.csv\n",
      "\n",
      "\n",
      "------------------------------------------------------------------------\n",
      "\n",
      "Epoch 7/30\n",
      "Epoch 1/50\n",
      "288/288 - 18s - loss: 0.2750 - accuracy: 0.9177 - auc: 0.9679 - val_loss: 0.1887 - val_accuracy: 0.9530 - val_auc: 0.9816 - lr: 5.0000e-04 - 18s/epoch - 63ms/step\n",
      "Epoch 2/50\n",
      "288/288 - 18s - loss: 0.2573 - accuracy: 0.9238 - auc: 0.9717 - val_loss: 0.2147 - val_accuracy: 0.9200 - val_auc: 0.9716 - lr: 5.0000e-04 - 18s/epoch - 63ms/step\n",
      "Epoch 3/50\n",
      "288/288 - 18s - loss: 0.2559 - accuracy: 0.9229 - auc: 0.9721 - val_loss: 0.1928 - val_accuracy: 0.9391 - val_auc: 0.9772 - lr: 5.0000e-04 - 18s/epoch - 64ms/step\n",
      "18/18 [==============================] - 1s 42ms/step\n",
      "+ Test accuracy at epoch 7 is: 95.30\n",
      "+ Test AUC at epoch 7 is: 98.200\n",
      "\n",
      "------------------------------------------------------------------------\n",
      "\n",
      "Epoch 8/30\n",
      "Epoch 1/50\n",
      "288/288 - 18s - loss: 0.2762 - accuracy: 0.9168 - auc: 0.9678 - val_loss: 0.1806 - val_accuracy: 0.9496 - val_auc: 0.9830 - lr: 5.0000e-04 - 18s/epoch - 64ms/step\n",
      "Epoch 2/50\n",
      "288/288 - 18s - loss: 0.2712 - accuracy: 0.9203 - auc: 0.9687 - val_loss: 0.1885 - val_accuracy: 0.9426 - val_auc: 0.9790 - lr: 5.0000e-04 - 18s/epoch - 63ms/step\n",
      "Epoch 3/50\n",
      "288/288 - 19s - loss: 0.2556 - accuracy: 0.9273 - auc: 0.9718 - val_loss: 0.1848 - val_accuracy: 0.9409 - val_auc: 0.9782 - lr: 5.0000e-04 - 19s/epoch - 65ms/step\n",
      "18/18 [==============================] - 1s 43ms/step\n",
      "+ Test accuracy at epoch 8 is: 94.96\n",
      "+ Test AUC at epoch 8 is: 98.300\n",
      "\n",
      "------------------------------------------------------------------------\n",
      "\n",
      "Epoch 9/30\n",
      "Epoch 1/50\n",
      "288/288 - 19s - loss: 0.2659 - accuracy: 0.9190 - auc: 0.9692 - val_loss: 0.1955 - val_accuracy: 0.9287 - val_auc: 0.9788 - lr: 5.0000e-04 - 19s/epoch - 65ms/step\n",
      "Epoch 2/50\n",
      "288/288 - 19s - loss: 0.2604 - accuracy: 0.9277 - auc: 0.9709 - val_loss: 0.1669 - val_accuracy: 0.9426 - val_auc: 0.9823 - lr: 5.0000e-04 - 19s/epoch - 64ms/step\n",
      "Epoch 3/50\n",
      "288/288 - 18s - loss: 0.2613 - accuracy: 0.9147 - auc: 0.9702 - val_loss: 0.1978 - val_accuracy: 0.9304 - val_auc: 0.9762 - lr: 5.0000e-04 - 18s/epoch - 64ms/step\n",
      "Epoch 4/50\n",
      "288/288 - 18s - loss: 0.2385 - accuracy: 0.9308 - auc: 0.9752 - val_loss: 0.1653 - val_accuracy: 0.9478 - val_auc: 0.9834 - lr: 5.0000e-04 - 18s/epoch - 64ms/step\n",
      "Epoch 5/50\n",
      "288/288 - 18s - loss: 0.2556 - accuracy: 0.9151 - auc: 0.9719 - val_loss: 0.1861 - val_accuracy: 0.9478 - val_auc: 0.9841 - lr: 5.0000e-04 - 18s/epoch - 63ms/step\n",
      "Epoch 6/50\n",
      "288/288 - 19s - loss: 0.2639 - accuracy: 0.9221 - auc: 0.9696 - val_loss: 0.1968 - val_accuracy: 0.9339 - val_auc: 0.9748 - lr: 5.0000e-04 - 19s/epoch - 65ms/step\n",
      "Epoch 7/50\n",
      "288/288 - 20s - loss: 0.2619 - accuracy: 0.9216 - auc: 0.9708 - val_loss: 0.1748 - val_accuracy: 0.9461 - val_auc: 0.9826 - lr: 5.0000e-04 - 20s/epoch - 69ms/step\n",
      "18/18 [==============================] - 1s 44ms/step\n",
      "+ Test accuracy at epoch 9 is: 94.78\n",
      "+ Test AUC at epoch 9 is: 98.410\n",
      "\n",
      "------------------------------------------------------------------------\n",
      "\n",
      "Epoch 10/30\n",
      "Epoch 1/50\n",
      "288/288 - 19s - loss: 0.2580 - accuracy: 0.9251 - auc: 0.9712 - val_loss: 0.1803 - val_accuracy: 0.9426 - val_auc: 0.9842 - lr: 5.0000e-04 - 19s/epoch - 66ms/step\n",
      "Epoch 2/50\n",
      "288/288 - 19s - loss: 0.2468 - accuracy: 0.9208 - auc: 0.9740 - val_loss: 0.1568 - val_accuracy: 0.9478 - val_auc: 0.9849 - lr: 5.0000e-04 - 19s/epoch - 65ms/step\n",
      "Epoch 3/50\n",
      "288/288 - 19s - loss: 0.2536 - accuracy: 0.9234 - auc: 0.9723 - val_loss: 0.2013 - val_accuracy: 0.9304 - val_auc: 0.9743 - lr: 5.0000e-04 - 19s/epoch - 68ms/step\n",
      "Epoch 4/50\n",
      "288/288 - 20s - loss: 0.2772 - accuracy: 0.9142 - auc: 0.9674 - val_loss: 0.1881 - val_accuracy: 0.9391 - val_auc: 0.9774 - lr: 5.0000e-04 - 20s/epoch - 70ms/step\n",
      "18/18 [==============================] - 1s 46ms/step\n",
      "+ Test accuracy at epoch 10 is: 94.78\n",
      "+ Test AUC at epoch 10 is: 98.580\n",
      "+ Writing kaggle test results in : results/epoch-10-results.csv...\n",
      "7/7 [==============================] - 0s 51ms/step\n",
      "+ Saved Kaggle predictions to epoch-10-results.csv\n",
      "\n",
      "\n",
      "------------------------------------------------------------------------\n",
      "\n",
      "Epoch 11/30\n",
      "Epoch 1/50\n",
      "288/288 - 20s - loss: 0.2632 - accuracy: 0.9212 - auc: 0.9711 - val_loss: 0.1616 - val_accuracy: 0.9461 - val_auc: 0.9830 - lr: 5.0000e-04 - 20s/epoch - 68ms/step\n",
      "Epoch 2/50\n",
      "288/288 - 20s - loss: 0.2683 - accuracy: 0.9168 - auc: 0.9688 - val_loss: 0.1653 - val_accuracy: 0.9513 - val_auc: 0.9849 - lr: 5.0000e-04 - 20s/epoch - 69ms/step\n",
      "Epoch 3/50\n",
      "288/288 - 19s - loss: 0.2638 - accuracy: 0.9173 - auc: 0.9693 - val_loss: 0.1674 - val_accuracy: 0.9426 - val_auc: 0.9843 - lr: 5.0000e-04 - 19s/epoch - 68ms/step\n",
      "Epoch 4/50\n",
      "288/288 - 19s - loss: 0.2617 - accuracy: 0.9238 - auc: 0.9712 - val_loss: 0.2094 - val_accuracy: 0.9235 - val_auc: 0.9731 - lr: 5.0000e-04 - 19s/epoch - 66ms/step\n",
      "18/18 [==============================] - 1s 48ms/step\n",
      "+ Test accuracy at epoch 11 is: 95.13\n",
      "+ Test AUC at epoch 11 is: 98.550\n",
      "\n",
      "------------------------------------------------------------------------\n",
      "\n",
      "Epoch 12/30\n",
      "Epoch 1/50\n",
      "288/288 - 20s - loss: 0.2619 - accuracy: 0.9195 - auc: 0.9704 - val_loss: 0.1637 - val_accuracy: 0.9530 - val_auc: 0.9825 - lr: 5.0000e-04 - 20s/epoch - 69ms/step\n",
      "Epoch 2/50\n",
      "288/288 - 19s - loss: 0.2572 - accuracy: 0.9234 - auc: 0.9712 - val_loss: 0.1835 - val_accuracy: 0.9339 - val_auc: 0.9794 - lr: 5.0000e-04 - 19s/epoch - 67ms/step\n",
      "Epoch 3/50\n",
      "288/288 - 19s - loss: 0.2495 - accuracy: 0.9273 - auc: 0.9721 - val_loss: 0.1675 - val_accuracy: 0.9496 - val_auc: 0.9823 - lr: 5.0000e-04 - 19s/epoch - 66ms/step\n",
      "18/18 [==============================] - 1s 42ms/step\n",
      "+ Test accuracy at epoch 12 is: 95.30\n",
      "+ Test AUC at epoch 12 is: 98.300\n",
      "\n",
      "------------------------------------------------------------------------\n",
      "\n",
      "Epoch 13/30\n",
      "Epoch 1/50\n",
      "288/288 - 19s - loss: 0.2561 - accuracy: 0.9264 - auc: 0.9718 - val_loss: 0.2046 - val_accuracy: 0.9374 - val_auc: 0.9738 - lr: 5.0000e-04 - 19s/epoch - 65ms/step\n",
      "Epoch 2/50\n",
      "288/288 - 18s - loss: 0.2475 - accuracy: 0.9242 - auc: 0.9732 - val_loss: 0.2072 - val_accuracy: 0.9096 - val_auc: 0.9733 - lr: 5.0000e-04 - 18s/epoch - 63ms/step\n",
      "Epoch 3/50\n",
      "288/288 - 19s - loss: 0.2612 - accuracy: 0.9173 - auc: 0.9714 - val_loss: 0.1778 - val_accuracy: 0.9391 - val_auc: 0.9799 - lr: 5.0000e-04 - 19s/epoch - 64ms/step\n",
      "Epoch 4/50\n",
      "288/288 - 19s - loss: 0.2585 - accuracy: 0.9242 - auc: 0.9708 - val_loss: 0.1776 - val_accuracy: 0.9478 - val_auc: 0.9795 - lr: 5.0000e-04 - 19s/epoch - 66ms/step\n",
      "Epoch 5/50\n",
      "288/288 - 18s - loss: 0.2325 - accuracy: 0.9312 - auc: 0.9763 - val_loss: 0.1862 - val_accuracy: 0.9461 - val_auc: 0.9765 - lr: 5.0000e-04 - 18s/epoch - 64ms/step\n",
      "18/18 [==============================] - 1s 43ms/step\n",
      "+ Test accuracy at epoch 13 is: 93.91\n",
      "+ Test AUC at epoch 13 is: 98.000\n",
      "\n",
      "------------------------------------------------------------------------\n",
      "\n",
      "Epoch 14/30\n",
      "Epoch 1/50\n",
      "288/288 - 18s - loss: 0.2519 - accuracy: 0.9260 - auc: 0.9721 - val_loss: 0.1631 - val_accuracy: 0.9426 - val_auc: 0.9846 - lr: 5.0000e-04 - 18s/epoch - 64ms/step\n",
      "Epoch 2/50\n",
      "288/288 - 19s - loss: 0.2458 - accuracy: 0.9260 - auc: 0.9740 - val_loss: 0.1577 - val_accuracy: 0.9513 - val_auc: 0.9837 - lr: 5.0000e-04 - 19s/epoch - 65ms/step\n",
      "Epoch 3/50\n",
      "288/288 - 19s - loss: 0.2453 - accuracy: 0.9216 - auc: 0.9738 - val_loss: 0.1845 - val_accuracy: 0.9478 - val_auc: 0.9826 - lr: 5.0000e-04 - 19s/epoch - 64ms/step\n",
      "18/18 [==============================] - 1s 43ms/step\n",
      "+ Test accuracy at epoch 14 is: 94.26\n",
      "+ Test AUC at epoch 14 is: 98.520\n",
      "\n",
      "------------------------------------------------------------------------\n",
      "\n",
      "Epoch 15/30\n",
      "Epoch 1/50\n",
      "288/288 - 19s - loss: 0.2562 - accuracy: 0.9173 - auc: 0.9712 - val_loss: 0.1947 - val_accuracy: 0.9270 - val_auc: 0.9766 - lr: 5.0000e-04 - 19s/epoch - 65ms/step\n",
      "Epoch 2/50\n",
      "288/288 - 19s - loss: 0.2542 - accuracy: 0.9260 - auc: 0.9713 - val_loss: 0.1865 - val_accuracy: 0.9322 - val_auc: 0.9829 - lr: 5.0000e-04 - 19s/epoch - 65ms/step\n",
      "Epoch 3/50\n",
      "288/288 - 19s - loss: 0.2309 - accuracy: 0.9334 - auc: 0.9768 - val_loss: 0.1847 - val_accuracy: 0.9304 - val_auc: 0.9784 - lr: 5.0000e-04 - 19s/epoch - 64ms/step\n",
      "Epoch 4/50\n",
      "288/288 - 18s - loss: 0.2563 - accuracy: 0.9203 - auc: 0.9726 - val_loss: 0.1825 - val_accuracy: 0.9391 - val_auc: 0.9796 - lr: 5.0000e-04 - 18s/epoch - 64ms/step\n",
      "18/18 [==============================] - 1s 42ms/step\n",
      "+ Test accuracy at epoch 15 is: 93.22\n",
      "+ Test AUC at epoch 15 is: 98.240\n",
      "\n",
      "------------------------------------------------------------------------\n",
      "\n",
      "Epoch 16/30\n",
      "Epoch 1/50\n",
      "288/288 - 19s - loss: 0.2371 - accuracy: 0.9264 - auc: 0.9758 - val_loss: 0.1685 - val_accuracy: 0.9426 - val_auc: 0.9816 - lr: 5.0000e-04 - 19s/epoch - 65ms/step\n",
      "Epoch 2/50\n",
      "288/288 - 19s - loss: 0.2445 - accuracy: 0.9229 - auc: 0.9740 - val_loss: 0.1714 - val_accuracy: 0.9496 - val_auc: 0.9820 - lr: 5.0000e-04 - 19s/epoch - 64ms/step\n",
      "Epoch 3/50\n",
      "288/288 - 19s - loss: 0.2466 - accuracy: 0.9277 - auc: 0.9735 - val_loss: 0.1590 - val_accuracy: 0.9530 - val_auc: 0.9850 - lr: 5.0000e-04 - 19s/epoch - 66ms/step\n",
      "Epoch 4/50\n",
      "288/288 - 19s - loss: 0.2426 - accuracy: 0.9269 - auc: 0.9746 - val_loss: 0.1899 - val_accuracy: 0.9374 - val_auc: 0.9783 - lr: 5.0000e-04 - 19s/epoch - 66ms/step\n",
      "Epoch 5/50\n",
      "288/288 - 19s - loss: 0.2505 - accuracy: 0.9286 - auc: 0.9730 - val_loss: 0.1689 - val_accuracy: 0.9391 - val_auc: 0.9828 - lr: 5.0000e-04 - 19s/epoch - 67ms/step\n",
      "18/18 [==============================] - 1s 45ms/step\n",
      "+ Test accuracy at epoch 16 is: 95.30\n",
      "+ Test AUC at epoch 16 is: 98.490\n",
      "\n",
      "------------------------------------------------------------------------\n",
      "\n",
      "Epoch 17/30\n",
      "Epoch 1/50\n",
      "288/288 - 19s - loss: 0.2451 - accuracy: 0.9216 - auc: 0.9732 - val_loss: 0.1702 - val_accuracy: 0.9409 - val_auc: 0.9808 - lr: 5.0000e-04 - 19s/epoch - 65ms/step\n",
      "Epoch 2/50\n",
      "288/288 - 19s - loss: 0.2568 - accuracy: 0.9155 - auc: 0.9714 - val_loss: 0.1748 - val_accuracy: 0.9287 - val_auc: 0.9812 - lr: 5.0000e-04 - 19s/epoch - 65ms/step\n",
      "Epoch 3/50\n",
      "288/288 - 19s - loss: 0.2587 - accuracy: 0.9256 - auc: 0.9719 - val_loss: 0.1845 - val_accuracy: 0.9478 - val_auc: 0.9780 - lr: 5.0000e-04 - 19s/epoch - 67ms/step\n",
      "Epoch 4/50\n",
      "288/288 - 19s - loss: 0.2430 - accuracy: 0.9216 - auc: 0.9740 - val_loss: 0.1728 - val_accuracy: 0.9513 - val_auc: 0.9835 - lr: 5.0000e-04 - 19s/epoch - 67ms/step\n",
      "Epoch 5/50\n",
      "288/288 - 19s - loss: 0.2379 - accuracy: 0.9251 - auc: 0.9755 - val_loss: 0.1441 - val_accuracy: 0.9583 - val_auc: 0.9864 - lr: 5.0000e-04 - 19s/epoch - 67ms/step\n",
      "Epoch 6/50\n",
      "288/288 - 19s - loss: 0.2457 - accuracy: 0.9295 - auc: 0.9729 - val_loss: 0.1670 - val_accuracy: 0.9443 - val_auc: 0.9829 - lr: 5.0000e-04 - 19s/epoch - 67ms/step\n",
      "Epoch 7/50\n",
      "288/288 - 19s - loss: 0.2325 - accuracy: 0.9312 - auc: 0.9764 - val_loss: 0.1652 - val_accuracy: 0.9513 - val_auc: 0.9821 - lr: 5.0000e-04 - 19s/epoch - 67ms/step\n",
      "18/18 [==============================] - 1s 45ms/step\n",
      "+ Test accuracy at epoch 17 is: 95.83\n",
      "+ Test AUC at epoch 17 is: 98.600\n",
      "+ Writing kaggle test results in : results/epoch-17-results.csv...\n",
      "7/7 [==============================] - 0s 39ms/step\n",
      "+ Saved Kaggle predictions to epoch-17-results.csv\n",
      "\n",
      "\n",
      "------------------------------------------------------------------------\n",
      "\n",
      "Epoch 18/30\n",
      "Epoch 1/50\n",
      "288/288 - 19s - loss: 0.2338 - accuracy: 0.9299 - auc: 0.9756 - val_loss: 0.1908 - val_accuracy: 0.9374 - val_auc: 0.9801 - lr: 5.0000e-04 - 19s/epoch - 67ms/step\n",
      "Epoch 2/50\n",
      "288/288 - 20s - loss: 0.2285 - accuracy: 0.9299 - auc: 0.9772 - val_loss: 0.1627 - val_accuracy: 0.9496 - val_auc: 0.9834 - lr: 5.0000e-04 - 20s/epoch - 68ms/step\n",
      "Epoch 3/50\n",
      "288/288 - 19s - loss: 0.2449 - accuracy: 0.9260 - auc: 0.9744 - val_loss: 0.1980 - val_accuracy: 0.9270 - val_auc: 0.9755 - lr: 5.0000e-04 - 19s/epoch - 67ms/step\n",
      "Epoch 4/50\n",
      "288/288 - 19s - loss: 0.2234 - accuracy: 0.9343 - auc: 0.9780 - val_loss: 0.1753 - val_accuracy: 0.9357 - val_auc: 0.9811 - lr: 5.0000e-04 - 19s/epoch - 67ms/step\n",
      "18/18 [==============================] - 1s 46ms/step\n",
      "+ Test accuracy at epoch 18 is: 94.96\n",
      "+ Test AUC at epoch 18 is: 98.290\n",
      "\n",
      "------------------------------------------------------------------------\n",
      "\n",
      "Epoch 19/30\n",
      "Epoch 1/50\n",
      "288/288 - 20s - loss: 0.2518 - accuracy: 0.9164 - auc: 0.9731 - val_loss: 0.1851 - val_accuracy: 0.9496 - val_auc: 0.9806 - lr: 5.0000e-04 - 20s/epoch - 69ms/step\n",
      "Epoch 2/50\n",
      "288/288 - 19s - loss: 0.2351 - accuracy: 0.9238 - auc: 0.9760 - val_loss: 0.1866 - val_accuracy: 0.9443 - val_auc: 0.9796 - lr: 5.0000e-04 - 19s/epoch - 67ms/step\n",
      "Epoch 3/50\n",
      "288/288 - 19s - loss: 0.2207 - accuracy: 0.9290 - auc: 0.9785 - val_loss: 0.1639 - val_accuracy: 0.9461 - val_auc: 0.9826 - lr: 5.0000e-04 - 19s/epoch - 66ms/step\n",
      "Epoch 4/50\n",
      "288/288 - 18s - loss: 0.2318 - accuracy: 0.9312 - auc: 0.9770 - val_loss: 0.1703 - val_accuracy: 0.9478 - val_auc: 0.9852 - lr: 5.0000e-04 - 18s/epoch - 63ms/step\n",
      "Epoch 5/50\n",
      "288/288 - 18s - loss: 0.2278 - accuracy: 0.9356 - auc: 0.9768 - val_loss: 0.1469 - val_accuracy: 0.9600 - val_auc: 0.9853 - lr: 5.0000e-04 - 18s/epoch - 64ms/step\n",
      "Epoch 6/50\n",
      "288/288 - 18s - loss: 0.2484 - accuracy: 0.9282 - auc: 0.9737 - val_loss: 0.1661 - val_accuracy: 0.9478 - val_auc: 0.9831 - lr: 5.0000e-04 - 18s/epoch - 63ms/step\n",
      "Epoch 7/50\n",
      "288/288 - 19s - loss: 0.2184 - accuracy: 0.9343 - auc: 0.9786 - val_loss: 0.1934 - val_accuracy: 0.9252 - val_auc: 0.9769 - lr: 5.0000e-04 - 19s/epoch - 65ms/step\n",
      "18/18 [==============================] - 1s 43ms/step\n",
      "+ Test accuracy at epoch 19 is: 96.00\n",
      "+ Test AUC at epoch 19 is: 98.520\n",
      "\n",
      "------------------------------------------------------------------------\n",
      "\n",
      "Epoch 20/30\n",
      "Epoch 1/50\n",
      "288/288 - 18s - loss: 0.2151 - accuracy: 0.9369 - auc: 0.9786 - val_loss: 0.1934 - val_accuracy: 0.9270 - val_auc: 0.9758 - lr: 5.0000e-04 - 18s/epoch - 63ms/step\n",
      "Epoch 2/50\n",
      "288/288 - 18s - loss: 0.2132 - accuracy: 0.9356 - auc: 0.9798 - val_loss: 0.1708 - val_accuracy: 0.9426 - val_auc: 0.9814 - lr: 5.0000e-04 - 18s/epoch - 63ms/step\n",
      "Epoch 3/50\n",
      "288/288 - 18s - loss: 0.2287 - accuracy: 0.9325 - auc: 0.9772 - val_loss: 0.2046 - val_accuracy: 0.9235 - val_auc: 0.9732 - lr: 5.0000e-04 - 18s/epoch - 64ms/step\n",
      "Epoch 4/50\n",
      "288/288 - 19s - loss: 0.2149 - accuracy: 0.9373 - auc: 0.9803 - val_loss: 0.1599 - val_accuracy: 0.9478 - val_auc: 0.9837 - lr: 5.0000e-04 - 19s/epoch - 66ms/step\n",
      "Epoch 5/50\n",
      "288/288 - 19s - loss: 0.2434 - accuracy: 0.9238 - auc: 0.9746 - val_loss: 0.1712 - val_accuracy: 0.9443 - val_auc: 0.9806 - lr: 5.0000e-04 - 19s/epoch - 65ms/step\n",
      "Epoch 6/50\n",
      "288/288 - 19s - loss: 0.2144 - accuracy: 0.9330 - auc: 0.9799 - val_loss: 0.1669 - val_accuracy: 0.9513 - val_auc: 0.9840 - lr: 5.0000e-04 - 19s/epoch - 65ms/step\n",
      "Epoch 7/50\n",
      "288/288 - 19s - loss: 0.2270 - accuracy: 0.9369 - auc: 0.9774 - val_loss: 0.1522 - val_accuracy: 0.9478 - val_auc: 0.9859 - lr: 5.0000e-04 - 19s/epoch - 65ms/step\n",
      "Epoch 8/50\n",
      "288/288 - 19s - loss: 0.2216 - accuracy: 0.9330 - auc: 0.9786 - val_loss: 0.1525 - val_accuracy: 0.9496 - val_auc: 0.9855 - lr: 5.0000e-04 - 19s/epoch - 65ms/step\n",
      "Epoch 9/50\n",
      "288/288 - 19s - loss: 0.2293 - accuracy: 0.9299 - auc: 0.9769 - val_loss: 0.1573 - val_accuracy: 0.9513 - val_auc: 0.9829 - lr: 5.0000e-04 - 19s/epoch - 66ms/step\n",
      "18/18 [==============================] - 1s 47ms/step\n",
      "+ Test accuracy at epoch 20 is: 94.78\n",
      "+ Test AUC at epoch 20 is: 98.570\n",
      "\n",
      "------------------------------------------------------------------------\n",
      "\n",
      "Epoch 21/30\n",
      "Epoch 1/50\n",
      "288/288 - 19s - loss: 0.2358 - accuracy: 0.9347 - auc: 0.9749 - val_loss: 0.2157 - val_accuracy: 0.9183 - val_auc: 0.9714 - lr: 5.0000e-04 - 19s/epoch - 68ms/step\n",
      "Epoch 2/50\n",
      "288/288 - 19s - loss: 0.2348 - accuracy: 0.9256 - auc: 0.9764 - val_loss: 0.1693 - val_accuracy: 0.9478 - val_auc: 0.9817 - lr: 5.0000e-04 - 19s/epoch - 67ms/step\n",
      "Epoch 3/50\n",
      "288/288 - 19s - loss: 0.2173 - accuracy: 0.9260 - auc: 0.9797 - val_loss: 0.1687 - val_accuracy: 0.9426 - val_auc: 0.9812 - lr: 5.0000e-04 - 19s/epoch - 67ms/step\n",
      "Epoch 4/50\n",
      "288/288 - 20s - loss: 0.2422 - accuracy: 0.9229 - auc: 0.9751 - val_loss: 0.1516 - val_accuracy: 0.9478 - val_auc: 0.9856 - lr: 5.0000e-04 - 20s/epoch - 68ms/step\n",
      "Epoch 5/50\n",
      "288/288 - 19s - loss: 0.2071 - accuracy: 0.9338 - auc: 0.9814 - val_loss: 0.1524 - val_accuracy: 0.9496 - val_auc: 0.9855 - lr: 5.0000e-04 - 19s/epoch - 67ms/step\n",
      "Epoch 6/50\n",
      "288/288 - 19s - loss: 0.2258 - accuracy: 0.9316 - auc: 0.9772 - val_loss: 0.1729 - val_accuracy: 0.9426 - val_auc: 0.9807 - lr: 5.0000e-04 - 19s/epoch - 66ms/step\n",
      "18/18 [==============================] - 1s 44ms/step\n",
      "+ Test accuracy at epoch 21 is: 94.78\n",
      "+ Test AUC at epoch 21 is: 98.520\n",
      "\n",
      "------------------------------------------------------------------------\n",
      "\n",
      "Epoch 22/30\n",
      "Epoch 1/50\n",
      "288/288 - 19s - loss: 0.2122 - accuracy: 0.9343 - auc: 0.9803 - val_loss: 0.1572 - val_accuracy: 0.9443 - val_auc: 0.9835 - lr: 5.0000e-04 - 19s/epoch - 67ms/step\n",
      "Epoch 2/50\n",
      "288/288 - 19s - loss: 0.2010 - accuracy: 0.9356 - auc: 0.9820 - val_loss: 0.1546 - val_accuracy: 0.9513 - val_auc: 0.9838 - lr: 5.0000e-04 - 19s/epoch - 68ms/step\n",
      "Epoch 3/50\n",
      "288/288 - 19s - loss: 0.2222 - accuracy: 0.9273 - auc: 0.9790 - val_loss: 0.1618 - val_accuracy: 0.9391 - val_auc: 0.9844 - lr: 5.0000e-04 - 19s/epoch - 65ms/step\n",
      "Epoch 4/50\n",
      "288/288 - 18s - loss: 0.2136 - accuracy: 0.9382 - auc: 0.9797 - val_loss: 0.1647 - val_accuracy: 0.9391 - val_auc: 0.9828 - lr: 5.0000e-04 - 18s/epoch - 64ms/step\n",
      "Epoch 5/50\n",
      "288/288 - 18s - loss: 0.2187 - accuracy: 0.9321 - auc: 0.9792 - val_loss: 0.2217 - val_accuracy: 0.9096 - val_auc: 0.9694 - lr: 5.0000e-04 - 18s/epoch - 64ms/step\n",
      "18/18 [==============================] - 1s 42ms/step\n",
      "+ Test accuracy at epoch 22 is: 93.91\n",
      "+ Test AUC at epoch 22 is: 98.350\n",
      "\n",
      "------------------------------------------------------------------------\n",
      "\n",
      "Epoch 23/30\n",
      "Epoch 1/50\n",
      "288/288 - 18s - loss: 0.2282 - accuracy: 0.9325 - auc: 0.9769 - val_loss: 0.1836 - val_accuracy: 0.9374 - val_auc: 0.9767 - lr: 5.0000e-04 - 18s/epoch - 64ms/step\n",
      "Epoch 2/50\n",
      "288/288 - 18s - loss: 0.2251 - accuracy: 0.9386 - auc: 0.9777 - val_loss: 0.1782 - val_accuracy: 0.9304 - val_auc: 0.9820 - lr: 5.0000e-04 - 18s/epoch - 64ms/step\n",
      "Epoch 3/50\n",
      "288/288 - 18s - loss: 0.2099 - accuracy: 0.9404 - auc: 0.9806 - val_loss: 0.1408 - val_accuracy: 0.9548 - val_auc: 0.9867 - lr: 5.0000e-04 - 18s/epoch - 64ms/step\n",
      "Epoch 4/50\n",
      "288/288 - 18s - loss: 0.2192 - accuracy: 0.9351 - auc: 0.9786 - val_loss: 0.1791 - val_accuracy: 0.9443 - val_auc: 0.9794 - lr: 5.0000e-04 - 18s/epoch - 63ms/step\n",
      "Epoch 5/50\n",
      "288/288 - 19s - loss: 0.2256 - accuracy: 0.9316 - auc: 0.9787 - val_loss: 0.1665 - val_accuracy: 0.9409 - val_auc: 0.9839 - lr: 5.0000e-04 - 19s/epoch - 65ms/step\n",
      "18/18 [==============================] - 1s 43ms/step\n",
      "+ Test accuracy at epoch 23 is: 95.48\n",
      "+ Test AUC at epoch 23 is: 98.710\n",
      "+ Writing kaggle test results in : results/epoch-23-results.csv...\n",
      "7/7 [==============================] - 0s 38ms/step\n",
      "+ Saved Kaggle predictions to epoch-23-results.csv\n",
      "\n",
      "\n",
      "------------------------------------------------------------------------\n",
      "\n",
      "Epoch 24/30\n",
      "Epoch 1/50\n",
      "288/288 - 19s - loss: 0.2067 - accuracy: 0.9356 - auc: 0.9813 - val_loss: 0.1585 - val_accuracy: 0.9478 - val_auc: 0.9836 - lr: 5.0000e-04 - 19s/epoch - 64ms/step\n",
      "Epoch 2/50\n",
      "288/288 - 19s - loss: 0.2144 - accuracy: 0.9312 - auc: 0.9799 - val_loss: 0.1628 - val_accuracy: 0.9409 - val_auc: 0.9829 - lr: 5.0000e-04 - 19s/epoch - 65ms/step\n",
      "Epoch 3/50\n",
      "288/288 - 18s - loss: 0.2195 - accuracy: 0.9386 - auc: 0.9788 - val_loss: 0.1545 - val_accuracy: 0.9426 - val_auc: 0.9840 - lr: 5.0000e-04 - 18s/epoch - 64ms/step\n",
      "Epoch 4/50\n",
      "288/288 - 18s - loss: 0.2188 - accuracy: 0.9325 - auc: 0.9787 - val_loss: 0.1648 - val_accuracy: 0.9443 - val_auc: 0.9822 - lr: 5.0000e-04 - 18s/epoch - 63ms/step\n",
      "Epoch 5/50\n",
      "288/288 - 18s - loss: 0.2069 - accuracy: 0.9343 - auc: 0.9813 - val_loss: 0.1634 - val_accuracy: 0.9461 - val_auc: 0.9830 - lr: 5.0000e-04 - 18s/epoch - 64ms/step\n",
      "18/18 [==============================] - 1s 42ms/step\n",
      "+ Test accuracy at epoch 24 is: 94.26\n",
      "+ Test AUC at epoch 24 is: 98.390\n",
      "\n",
      "------------------------------------------------------------------------\n",
      "\n",
      "Epoch 25/30\n",
      "Epoch 1/50\n",
      "288/288 - 19s - loss: 0.2110 - accuracy: 0.9343 - auc: 0.9807 - val_loss: 0.1560 - val_accuracy: 0.9496 - val_auc: 0.9846 - lr: 5.0000e-04 - 19s/epoch - 65ms/step\n",
      "Epoch 2/50\n",
      "288/288 - 18s - loss: 0.2154 - accuracy: 0.9325 - auc: 0.9790 - val_loss: 0.1568 - val_accuracy: 0.9443 - val_auc: 0.9835 - lr: 5.0000e-04 - 18s/epoch - 64ms/step\n",
      "Epoch 3/50\n",
      "288/288 - 18s - loss: 0.2187 - accuracy: 0.9312 - auc: 0.9794 - val_loss: 0.1682 - val_accuracy: 0.9443 - val_auc: 0.9824 - lr: 5.0000e-04 - 18s/epoch - 64ms/step\n",
      "18/18 [==============================] - 1s 42ms/step\n",
      "+ Test accuracy at epoch 25 is: 94.96\n",
      "+ Test AUC at epoch 25 is: 98.480\n",
      "\n",
      "------------------------------------------------------------------------\n",
      "\n",
      "Epoch 26/30\n",
      "Epoch 1/50\n",
      "288/288 - 18s - loss: 0.2147 - accuracy: 0.9360 - auc: 0.9798 - val_loss: 0.1532 - val_accuracy: 0.9478 - val_auc: 0.9845 - lr: 5.0000e-04 - 18s/epoch - 64ms/step\n",
      "Epoch 2/50\n",
      "288/288 - 19s - loss: 0.2189 - accuracy: 0.9325 - auc: 0.9793 - val_loss: 0.1655 - val_accuracy: 0.9478 - val_auc: 0.9824 - lr: 5.0000e-04 - 19s/epoch - 66ms/step\n",
      "Epoch 3/50\n",
      "288/288 - 19s - loss: 0.2168 - accuracy: 0.9373 - auc: 0.9797 - val_loss: 0.1862 - val_accuracy: 0.9391 - val_auc: 0.9763 - lr: 5.0000e-04 - 19s/epoch - 65ms/step\n",
      "18/18 [==============================] - 1s 43ms/step\n",
      "+ Test accuracy at epoch 26 is: 94.78\n",
      "+ Test AUC at epoch 26 is: 98.460\n",
      "\n",
      "------------------------------------------------------------------------\n",
      "\n",
      "Epoch 27/30\n",
      "Epoch 1/50\n",
      "288/288 - 19s - loss: 0.2336 - accuracy: 0.9316 - auc: 0.9763 - val_loss: 0.1538 - val_accuracy: 0.9443 - val_auc: 0.9853 - lr: 5.0000e-04 - 19s/epoch - 64ms/step\n",
      "Epoch 2/50\n",
      "288/288 - 19s - loss: 0.1995 - accuracy: 0.9373 - auc: 0.9825 - val_loss: 0.1819 - val_accuracy: 0.9357 - val_auc: 0.9782 - lr: 5.0000e-04 - 19s/epoch - 65ms/step\n",
      "Epoch 3/50\n",
      "288/288 - 18s - loss: 0.2142 - accuracy: 0.9347 - auc: 0.9792 - val_loss: 0.1588 - val_accuracy: 0.9461 - val_auc: 0.9854 - lr: 5.0000e-04 - 18s/epoch - 64ms/step\n",
      "Epoch 4/50\n",
      "288/288 - 18s - loss: 0.2188 - accuracy: 0.9356 - auc: 0.9794 - val_loss: 0.1925 - val_accuracy: 0.9409 - val_auc: 0.9757 - lr: 5.0000e-04 - 18s/epoch - 63ms/step\n",
      "Epoch 5/50\n",
      "288/288 - 18s - loss: 0.1992 - accuracy: 0.9369 - auc: 0.9826 - val_loss: 0.1449 - val_accuracy: 0.9548 - val_auc: 0.9868 - lr: 2.5000e-04 - 18s/epoch - 64ms/step\n",
      "Epoch 6/50\n",
      "288/288 - 19s - loss: 0.1893 - accuracy: 0.9382 - auc: 0.9840 - val_loss: 0.1569 - val_accuracy: 0.9443 - val_auc: 0.9850 - lr: 2.5000e-04 - 19s/epoch - 64ms/step\n",
      "Epoch 7/50\n",
      "288/288 - 19s - loss: 0.1779 - accuracy: 0.9443 - auc: 0.9863 - val_loss: 0.1504 - val_accuracy: 0.9461 - val_auc: 0.9860 - lr: 2.5000e-04 - 19s/epoch - 66ms/step\n",
      "18/18 [==============================] - 1s 43ms/step\n",
      "+ Test accuracy at epoch 27 is: 95.48\n",
      "+ Test AUC at epoch 27 is: 98.670\n",
      "\n",
      "------------------------------------------------------------------------\n",
      "\n",
      "Epoch 28/30\n",
      "Epoch 1/50\n",
      "288/288 - 19s - loss: 0.1936 - accuracy: 0.9364 - auc: 0.9832 - val_loss: 0.1603 - val_accuracy: 0.9478 - val_auc: 0.9833 - lr: 2.5000e-04 - 19s/epoch - 67ms/step\n",
      "Epoch 2/50\n",
      "288/288 - 19s - loss: 0.2024 - accuracy: 0.9373 - auc: 0.9820 - val_loss: 0.1545 - val_accuracy: 0.9461 - val_auc: 0.9855 - lr: 2.5000e-04 - 19s/epoch - 66ms/step\n",
      "Epoch 3/50\n",
      "288/288 - 19s - loss: 0.1912 - accuracy: 0.9373 - auc: 0.9837 - val_loss: 0.1443 - val_accuracy: 0.9513 - val_auc: 0.9868 - lr: 2.5000e-04 - 19s/epoch - 66ms/step\n",
      "Epoch 4/50\n",
      "288/288 - 19s - loss: 0.1962 - accuracy: 0.9377 - auc: 0.9833 - val_loss: 0.1423 - val_accuracy: 0.9565 - val_auc: 0.9875 - lr: 2.5000e-04 - 19s/epoch - 67ms/step\n",
      "Epoch 5/50\n",
      "288/288 - 19s - loss: 0.2014 - accuracy: 0.9408 - auc: 0.9817 - val_loss: 0.1545 - val_accuracy: 0.9443 - val_auc: 0.9853 - lr: 2.5000e-04 - 19s/epoch - 67ms/step\n",
      "Epoch 6/50\n",
      "288/288 - 19s - loss: 0.1857 - accuracy: 0.9443 - auc: 0.9844 - val_loss: 0.1515 - val_accuracy: 0.9443 - val_auc: 0.9856 - lr: 2.5000e-04 - 19s/epoch - 67ms/step\n",
      "18/18 [==============================] - 1s 44ms/step\n",
      "+ Test accuracy at epoch 28 is: 95.65\n",
      "+ Test AUC at epoch 28 is: 98.750\n",
      "+ Writing kaggle test results in : results/epoch-28-results.csv...\n",
      "7/7 [==============================] - 0s 38ms/step\n",
      "+ Saved Kaggle predictions to epoch-28-results.csv\n",
      "\n",
      "\n",
      "------------------------------------------------------------------------\n",
      "\n",
      "Epoch 29/30\n",
      "Epoch 1/50\n",
      "288/288 - 19s - loss: 0.1959 - accuracy: 0.9377 - auc: 0.9826 - val_loss: 0.1501 - val_accuracy: 0.9478 - val_auc: 0.9859 - lr: 2.5000e-04 - 19s/epoch - 67ms/step\n",
      "Epoch 2/50\n",
      "288/288 - 19s - loss: 0.1874 - accuracy: 0.9473 - auc: 0.9842 - val_loss: 0.1613 - val_accuracy: 0.9374 - val_auc: 0.9843 - lr: 2.5000e-04 - 19s/epoch - 67ms/step\n",
      "Epoch 3/50\n",
      "288/288 - 19s - loss: 0.1976 - accuracy: 0.9347 - auc: 0.9825 - val_loss: 0.1606 - val_accuracy: 0.9443 - val_auc: 0.9841 - lr: 2.5000e-04 - 19s/epoch - 68ms/step\n",
      "18/18 [==============================] - 1s 45ms/step\n",
      "+ Test accuracy at epoch 29 is: 94.78\n",
      "+ Test AUC at epoch 29 is: 98.590\n",
      "\n",
      "------------------------------------------------------------------------\n",
      "\n",
      "Epoch 30/30\n",
      "Epoch 1/50\n",
      "288/288 - 20s - loss: 0.2028 - accuracy: 0.9356 - auc: 0.9822 - val_loss: 0.1507 - val_accuracy: 0.9426 - val_auc: 0.9861 - lr: 2.5000e-04 - 20s/epoch - 68ms/step\n",
      "Epoch 2/50\n",
      "288/288 - 19s - loss: 0.1871 - accuracy: 0.9338 - auc: 0.9848 - val_loss: 0.1453 - val_accuracy: 0.9496 - val_auc: 0.9872 - lr: 2.5000e-04 - 19s/epoch - 68ms/step\n",
      "Epoch 3/50\n",
      "288/288 - 19s - loss: 0.1970 - accuracy: 0.9325 - auc: 0.9832 - val_loss: 0.1707 - val_accuracy: 0.9357 - val_auc: 0.9820 - lr: 2.5000e-04 - 19s/epoch - 67ms/step\n",
      "Epoch 4/50\n",
      "288/288 - 19s - loss: 0.1922 - accuracy: 0.9369 - auc: 0.9841 - val_loss: 0.1721 - val_accuracy: 0.9322 - val_auc: 0.9806 - lr: 2.5000e-04 - 19s/epoch - 68ms/step\n",
      "18/18 [==============================] - 1s 44ms/step\n",
      "+ Test accuracy at epoch 30 is: 94.96\n",
      "+ Test AUC at epoch 30 is: 98.650\n",
      "\n",
      "------------------------------------------------------------------------\n",
      "\n",
      "------------------------------------------------------------------------\n",
      "*** Best AUC achieved: 98.750 at epoch 28 ***\n",
      "------------------------------------------------------------------------\n",
      "\n",
      "*** Printing our best validation results from epoch 28 ...\n",
      "------------------------------------------------------------------------\n",
      "Accuracy: 95.65\n",
      "PrecisionNegative: 96.47\n",
      "PrecisionPositive: 94.86\n",
      "RecallNegative: 94.79\n",
      "RecallPositive: 96.52\n",
      "AUC Score: 98.75\n",
      "------------------------------------------------------------------------\n",
      "+ Printing confusion matrix...\n",
      "\n"
     ]
    },
    {
     "data": {
      "image/png": "[encoded data removed]",
      "text/plain": [
       "<Figure size 432x288 with 1 Axes>"
      ]
     },
     "metadata": {
      "needs_background": "light"
     },
     "output_type": "display_data"
    },
    {
     "name": "stdout",
     "output_type": "stream",
     "text": [
      "+ Printing ROC curve...\n",
      "\n"
     ]
    },
    {
     "data": {
      "image/png": "[encoded data removed]",
      "text/plain": [
       "<Figure size 1152x576 with 1 Axes>"
      ]
     },
     "metadata": {
      "needs_background": "light"
     },
     "output_type": "display_data"
    },
    {
     "data": {
      "text/plain": [
       "98.75"
      ]
     },
     "execution_count": 22,
     "metadata": {},
     "output_type": "execute_result"
    }
   ],
   "source": [
    "from keras.callbacks import EarlyStopping, ReduceLROnPlateau\n",
    "\n",
    "# Early stopping to prevent overfitting\n",
    "early_stop = EarlyStopping(\n",
    "    monitor='val_auc',\n",
    "    patience=2,  # Stop after 2 stagnant epochs\n",
    "    restore_best_weights=True,\n",
    "    mode='max'\n",
    ")\n",
    "\n",
    "\n",
    "# Reduce learning rate when a metric has stopped improving\n",
    "lr_reduce = ReduceLROnPlateau(\n",
    "    monitor='val_auc',       # Monitor validation AUC\n",
    "    factor=0.5,              # Reduce learning rate by half\n",
    "    patience=3,              # Wait for 3 epochs before reducing LR\n",
    "    min_lr=1e-7,             # Don't go below this learning rate\n",
    "    mode='max'               # Because higher AUC is better\n",
    ")\n",
    "\n",
    "USE_DATA_AUGMENTATION = True  # or False, depending on whether you want to use it\n",
    "\n",
    "\n",
    "bestAcc = 0.0\n",
    "bestEpoch = 0\n",
    "bestAccPredictions, bestAccPredictionProbabilities = [], []\n",
    "\n",
    "print(\"+ Starting training. Each epoch can take about 2-5 minutes, hold tight!\")\n",
    "print(\"-----------------------------------------------------------------------\\n\")\n",
    "\n",
    "# Define whether to use data augmentation\n",
    "USE_DATA_AUGMENTATION = True  # Set to False if you want to disable it\n",
    "\n",
    "optimizedModel = createOptimizedCNN(trainData.shape[1:], numClasses)\n",
    "\n",
    "# Fit with callbacks\n",
    "history = optimizedModel.fit(\n",
    "    dataAugmentation.flow(trainData, trainLabels, batch_size=batchSize),\n",
    "    validation_data=(testData, testLabels),\n",
    "    epochs=30,  # Reduced for speed\n",
    "    class_weight={0: 1, 1: 1.5},\n",
    "    callbacks=[early_stop, lr_reduce],\n",
    "    verbose=2\n",
    ")\n",
    "\n",
    "imageData = load_img(fullPath, color_mode=\"grayscale\", target_size=(128, 128))\n",
    "\n",
    "\n",
    "# Start Training Loop\n",
    "for epoch in range(epochs):\n",
    "    print(f\"Epoch {epoch + 1}/{epochs}\")\n",
    "\n",
    "    if USE_DATA_AUGMENTATION:\n",
    "        # Use augmented data consistently for better generalization\n",
    "        history = model.fit(\n",
    "        dataAugmentation.flow(trainData, trainLabels, batch_size=batchSize),\n",
    "        validation_data=(testData, testLabels),\n",
    "        epochs=50,  # Allow more epochs, but early stopping will handle overfitting\n",
    "        callbacks=[lr_reduce, early_stop],\n",
    "        class_weight={0: 1, 1: 1.5},\n",
    "        verbose=2)\n",
    "    else:\n",
    "        # Train without data augmentation\n",
    "        history = model.fit(trainData, trainLabels,\n",
    "                            batch_size=batchSize,\n",
    "                            epochs=1,\n",
    "                            validation_data=(testData, testLabels),\n",
    "                            class_weight={0: 1, 1: 1.5},\n",
    "                            verbose=2)\n",
    "\n",
    "    \n",
    "    #################################################### Model Testing ###############################################################\n",
    "    # Evaluate on validation set\n",
    "    accuracy = round(model.evaluate(testData, testLabels, verbose=0)[1] * 100, 3)\n",
    "    predictions = model.predict(testData)\n",
    "    AccPredictionProbabilities = predictions\n",
    "    AccPredictions = [1 if item[1] > item[0] else 0 for item in AccPredictionProbabilities]\n",
    "    epochAUC = calculateMetrics(AccPredictions, AccPredictionProbabilities, testLabels)\n",
    "\n",
    "    print(f\"+ Test accuracy at epoch {epoch + 1} is: {accuracy:.2f}\")\n",
    "    print(f\"+ Test AUC at epoch {epoch + 1} is: {epochAUC:.3f}\")\n",
    "\n",
    "    # Logging results\n",
    "    with open(\"results/Log.txt\", \"a\") as outputFile:\n",
    "        outputFile.write(f\"Epoch-Accuracy-AUC \\t {epoch + 1} \\t {accuracy:.2f} \\t {epochAUC:.3f} \\n\")\n",
    "    \n",
    "    # Save best model based on AUC\n",
    "    if epochAUC > bestAcc:\n",
    "        bestEpoch = epoch + 1\n",
    "        bestAcc = epochAUC\n",
    "        bestAccPredictions = AccPredictions\n",
    "        bestAccPredictionProbabilities = AccPredictionProbabilities\n",
    "\n",
    "        # Save predictions for Kaggle submission\n",
    "        kaggleResultsFileName = f\"epoch-{epoch + 1}-results.csv\"\n",
    "        getKagglePredictions(model, kaggleTestImages, kaggleResultsFileName)\n",
    "        print(f\"+ Saved Kaggle predictions to {kaggleResultsFileName}\\n\")\n",
    "    \n",
    "    print('\\n' + '-'*72 + '\\n')\n",
    "\n",
    "print(\"------------------------------------------------------------------------\")\n",
    "print(f\"*** Best AUC achieved: {bestAcc:.3f} at epoch {bestEpoch} ***\")\n",
    "print(\"------------------------------------------------------------------------\")\n",
    "\n",
    "##################################################### Printing Best Metrics ##########################################################\n",
    "print(f\"\\n*** Printing our best validation results from epoch {bestEpoch} ...\")\n",
    "calculateMetricsAndPrint(bestAccPredictions, bestAccPredictionProbabilities, testLabels)\n"
   ]
  },
  {
   "cell_type": "markdown",
   "metadata": {
    "cell_id": "f68a8e17a4a04bafb84fd36bcfeb4058",
    "deepnote_cell_height": 70,
    "deepnote_cell_type": "markdown"
   },
   "source": [
    "## 4.4 Top n% Predictions"
   ]
  },
  {
   "cell_type": "code",
   "execution_count": 23,
   "metadata": {
    "cell_id": "843edb627e434333907895c8b2d1d525",
    "deepnote_cell_type": "code",
    "deepnote_to_be_reexecuted": false,
    "execution_millis": 115,
    "execution_start": 1673120486279,
    "source_hash": "e40791d1"
   },
   "outputs": [
    {
     "name": "stdout",
     "output_type": "stream",
     "text": [
      "+ Accuracy for top 5 percent predictions for healthy: 100.00, pneumonia: 100.00\n",
      "+ Accuracy for top 10 percent predictions for healthy: 100.00, pneumonia: 100.00\n",
      "+ Accuracy for top 20 percent predictions for healthy: 100.00, pneumonia: 100.00\n",
      "+ Accuracy for top 30 percent predictions for healthy: 100.00, pneumonia: 100.00\n"
     ]
    },
    {
     "data": {
      "image/png": "[encoded data removed]",
      "text/plain": [
       "<Figure size 1152x576 with 1 Axes>"
      ]
     },
     "metadata": {
      "needs_background": "light"
     },
     "output_type": "display_data"
    }
   ],
   "source": [
    "################################## You can change values inside the following list ###########################\n",
    "topNValues = [5, 10, 20, 30]\n",
    "##############################################################################################################\n",
    "\n",
    "accuraciesHealthy, accuraciesPneumonia = [], []\n",
    "for topn in topNValues:\n",
    "    accuracyHealthy, accuracyPneumonia = calculateClasswiseTopNAccuracy(testLabels, bestAccPredictionProbabilities, topn)\n",
    "    accuraciesHealthy.append(accuracyHealthy)\n",
    "    accuraciesPneumonia.append(accuracyPneumonia)\n",
    "    \n",
    "    print(\"+ Accuracy for top %d percent predictions for healthy: %.2f, pneumonia: %.2f\" % (topn, accuracyHealthy, accuracyPneumonia))\n",
    "    \n",
    "# Plot results\n",
    "x = np.arange(len(accuraciesHealthy))\n",
    "plt.plot(x, accuraciesHealthy, linewidth = 3, color = '#e01111')\n",
    "scatterHealthy = plt.scatter(x, accuraciesHealthy, marker = 's', s = 100, color = '#e01111')\n",
    "plt.plot(x, accuraciesPneumonia, linewidth = 3, color = '#0072ff')\n",
    "scatterPneumonia = plt.scatter(x, accuraciesPneumonia, marker = 'o', s = 100, color = '#0072ff')\n",
    "plt.xticks(x, topNValues, fontsize = 15)\n",
    "plt.yticks(fontsize = 15)\n",
    "plt.xlabel(\"Top N%\", fontsize = 15)\n",
    "plt.ylabel(\"Accuracy\", fontsize = 15)\n",
    "plt.legend([scatterHealthy, scatterPneumonia], [\"Accuracy for Healthy\", \"Accuracy for Pneumonia\"], fontsize = 17)\n",
    "plt.ylim(0, 110)\n",
    "plt.show()\n"
   ]
  },
  {
   "cell_type": "code",
   "execution_count": 27,
   "metadata": {},
   "outputs": [],
   "source": [
    "optimizedModel.save_weights(\"best_model_weights.h5\")  # Saves only weights\n"
   ]
  },
  {
   "cell_type": "code",
   "execution_count": 28,
   "metadata": {},
   "outputs": [],
   "source": [
    "# Rebuild the model architecture first\n",
    "optimizedModel = createOptimizedCNN(trainData.shape[1:], numClasses)  \n",
    "\n",
    "# Load the saved weights\n",
    "optimizedModel.load_weights(\"best_model_weights.h5\")  \n",
    "\n",
    "\n"
   ]
  },
  {
   "cell_type": "code",
   "execution_count": 1,
   "metadata": {},
   "outputs": [
    {
     "name": "stderr",
     "output_type": "stream",
     "text": [
      "2025-02-27 06:07:50.018149: I tensorflow/core/util/port.cc:110] oneDNN custom operations are on. You may see slightly different numerical results due to floating-point round-off errors from different computation orders. To turn them off, set the environment variable `TF_ENABLE_ONEDNN_OPTS=0`.\n",
      "2025-02-27 06:07:50.595245: I tensorflow/core/platform/cpu_feature_guard.cc:182] This TensorFlow binary is optimized to use available CPU instructions in performance-critical operations.\n",
      "To enable the following instructions: AVX2 AVX512F AVX512_VNNI FMA, in other operations, rebuild TensorFlow with the appropriate compiler flags.\n",
      "WARNING:root:Limited tf.compat.v2.summary API due to missing TensorBoard installation.\n",
      "WARNING:root:Limited tf.compat.v2.summary API due to missing TensorBoard installation.\n",
      "WARNING:root:Limited tf.compat.v2.summary API due to missing TensorBoard installation.\n",
      "WARNING:root:Limited tf.summary API due to missing TensorBoard installation.\n",
      "2025-02-27 06:07:52.597924: E tensorflow/compiler/xla/stream_executor/cuda/cuda_driver.cc:268] failed call to cuInit: CUDA_ERROR_NO_DEVICE: no CUDA-capable device is detected\n",
      "WARNING:root:Limited tf.compat.v2.summary API due to missing TensorBoard installation.\n",
      "WARNING:root:Limited tf.compat.v2.summary API due to missing TensorBoard installation.\n",
      "WARNING:root:Limited tf.compat.v2.summary API due to missing TensorBoard installation.\n"
     ]
    },
    {
     "name": "stdout",
     "output_type": "stream",
     "text": [
      "VOC-NOTICE: GPU memory for this assignment is capped at 1024MiB\n",
      "VOC-NOTICE: GPU memory for this assignment is capped at 1024MiB\n"
     ]
    },
    {
     "ename": "NameError",
     "evalue": "name 'createOptimizedCNN' is not defined",
     "output_type": "error",
     "traceback": [
      "\u001b[0;31m---------------------------------------------------------------------------\u001b[0m",
      "\u001b[0;31mNameError\u001b[0m                                 Traceback (most recent call last)",
      "\u001b[0;32m/tmp/ipykernel_9423/2837850090.py\u001b[0m in \u001b[0;36m<cell line: 6>\u001b[0;34m()\u001b[0m\n\u001b[1;32m      4\u001b[0m \u001b[0;34m\u001b[0m\u001b[0m\n\u001b[1;32m      5\u001b[0m \u001b[0;31m# Rebuild the model architecture first\u001b[0m\u001b[0;34m\u001b[0m\u001b[0;34m\u001b[0m\u001b[0m\n\u001b[0;32m----> 6\u001b[0;31m \u001b[0moptimizedModel\u001b[0m \u001b[0;34m=\u001b[0m \u001b[0mcreateOptimizedCNN\u001b[0m\u001b[0;34m(\u001b[0m\u001b[0mtrainData\u001b[0m\u001b[0;34m.\u001b[0m\u001b[0mshape\u001b[0m\u001b[0;34m[\u001b[0m\u001b[0;36m1\u001b[0m\u001b[0;34m:\u001b[0m\u001b[0;34m]\u001b[0m\u001b[0;34m,\u001b[0m \u001b[0mnumClasses\u001b[0m\u001b[0;34m)\u001b[0m\u001b[0;34m\u001b[0m\u001b[0;34m\u001b[0m\u001b[0m\n\u001b[0m\u001b[1;32m      7\u001b[0m \u001b[0;34m\u001b[0m\u001b[0m\n\u001b[1;32m      8\u001b[0m \u001b[0;31m# Load the saved weights\u001b[0m\u001b[0;34m\u001b[0m\u001b[0;34m\u001b[0m\u001b[0m\n",
      "\u001b[0;31mNameError\u001b[0m: name 'createOptimizedCNN' is not defined"
     ]
    }
   ],
   "source": [
    "import tensorflow as tf\n",
    "from tensorflow.keras.utils import plot_model\n",
    "import matplotlib.pyplot as plt\n",
    "\n",
    "# Rebuild the model architecture first\n",
    "optimizedModel = createOptimizedCNN(trainData.shape[1:], numClasses)  \n",
    "\n",
    "# Load the saved weights\n",
    "optimizedModel.load_weights(\"best_model_weights.h5\")  \n",
    "\n",
    "# Generate and save model visualization\n",
    "plot_model(optimizedModel, to_file=\"model_architecture.png\", show_shapes=True, show_layer_names=True, expand_nested=True, dpi=96)\n",
    "\n",
    "# Display the model image\n",
    "img = plt.imread(\"model_architecture.png\")\n",
    "plt.figure(figsize=(12, 12))\n",
    "plt.imshow(img)\n",
    "plt.axis(\"off\")\n",
    "plt.show()\n",
    "\n"
   ]
  },
  {
   "cell_type": "markdown",
   "metadata": {
    "created_in_deepnote_cell": true,
    "deepnote_cell_type": "markdown"
   },
   "source": [
    "<a style='text-decoration:none;line-height:16px;display:flex;color:#5B5B62;padding:10px;justify-content:end;' href='https://deepnote.com?utm_source=created-in-deepnote-cell&projectId=2da7edf6-dcd9-4d26-8af1-b990b67baf63' target=\"_blank\">\n",
    "<img alt='Created in deepnote.com' style='display:inline;max-height:16px;margin:0px;margin-right:7.5px;' src='data:image/svg+xml;base64,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' > </img>\n",
    "Created in <span style='font-weight:600;margin-left:4px;'>Deepnote</span></a>"
   ]
  }
 ],
 "metadata": {
  "deepnote": [],
  "deepnote_execution_queue": [],
  "deepnote_notebook_id": "dd4311ed5b974bdbb60d73cc52110b91",
  "kernelspec": {
   "display_name": "Python 3 [3.10]",
   "language": "python",
   "name": "python3"
  },
  "language_info": {
   "codemirror_mode": {
    "name": "ipython",
    "version": 3
   },
   "file_extension": ".py",
   "mimetype": "text/x-python",
   "name": "python",
   "nbconvert_exporter": "python",
   "pygments_lexer": "ipython3",
   "version": "3.10.2"
  }
 },
 "nbformat": 4,
 "nbformat_minor": 4
}
